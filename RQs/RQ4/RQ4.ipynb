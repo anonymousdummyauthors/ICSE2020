{
 "cells": [
  {
   "cell_type": "markdown",
   "metadata": {},
   "source": [
    "# RQ4: What are the naming smells of tags?\n",
    "In this notebook, we are going to investigate the naming smells of tags."
   ]
  },
  {
   "cell_type": "markdown",
   "metadata": {},
   "source": [
    "## Load data and import libraries"
   ]
  },
  {
   "cell_type": "code",
   "execution_count": 1,
   "metadata": {},
   "outputs": [],
   "source": [
    "%load_ext autoreload\n",
    "\n",
    "# Auto reloading causes the kernel to reload the libraries we have\n",
    "%autoreload 2\n",
    "\n",
    "# usual imports for visualization, etc.\n",
    "import numpy as np\n",
    "import pandas as pd\n",
    "import matplotlib.pyplot as plt\n",
    "import matplotlib.dates as mdate\n",
    "import matplotlib.ticker as ticker\n",
    "import datetime\n",
    "import re\n",
    "from pandas import Timestamp\n",
    "\n",
    "# make it reproducible\n",
    "np.random.seed(0)\n",
    "\n",
    "# show plots inline\n",
    "%matplotlib inline"
   ]
  },
  {
   "cell_type": "code",
   "execution_count": 2,
   "metadata": {},
   "outputs": [],
   "source": [
    "data_folder = '../data/'\n",
    "\n",
    "dockerfiles = pd.read_csv(data_folder + 'docker_image_dataset.csv', error_bad_lines=False, warn_bad_lines=False,low_memory=False)"
   ]
  },
  {
   "cell_type": "markdown",
   "metadata": {},
   "source": [
    "## Define helper functions and defaults"
   ]
  },
  {
   "cell_type": "code",
   "execution_count": 3,
   "metadata": {},
   "outputs": [],
   "source": [
    "# Helper Functions\n",
    "!mkdir figs\n",
    "figs_dir = 'figs/'"
   ]
  },
  {
   "cell_type": "code",
   "execution_count": 4,
   "metadata": {},
   "outputs": [],
   "source": [
    "from cycler import cycler\n",
    "def set_plt_rc():\n",
    "    SMALL_SIZE = 8\n",
    "    MEDIUM_SIZE = 10\n",
    "    BIGGER_SIZE = 12\n",
    "    \n",
    "    font = {'family': 'serif','size': BIGGER_SIZE}\n",
    "    plt.rc('font', **font)\n",
    "\n",
    "    plt.rc('font', size=SMALL_SIZE)          # controls default text sizes\n",
    "    plt.rc('axes', titlesize=SMALL_SIZE)     # fontsize of the axes title\n",
    "    plt.rc('axes', labelsize=MEDIUM_SIZE)    # fontsize of the x and y labels\n",
    "    plt.rc('xtick', labelsize=SMALL_SIZE)    # fontsize of the tick labels\n",
    "    plt.rc('ytick', labelsize=SMALL_SIZE)    # fontsize of the tick labels\n",
    "    plt.rc('legend', fontsize=SMALL_SIZE)    # legend fontsize\n",
    "    plt.rc('figure', titlesize=BIGGER_SIZE)  # fontsize of the figure title\n",
    "        \n",
    "    plt.rc('axes', prop_cycle=(cycler(color=['#1f77b4', '#ff7f0e', '#2ca02c', '#d62728',\n",
    "                                         '#9467bd', '#8c564b', '#e377c2', '#7f7f7f',\n",
    "                                         '#bcbd22', '#17becf']) +\n",
    "                           cycler(linestyle=['-', '--', ':', '-.','-', '--', ':', '-.','-', '--'])))\n",
    "    \n",
    "set_plt_rc()"
   ]
  },
  {
   "cell_type": "markdown",
   "metadata": {},
   "source": [
    "## Docker Image Tags"
   ]
  },
  {
   "cell_type": "code",
   "execution_count": 5,
   "metadata": {},
   "outputs": [],
   "source": [
    "# Function for converting stringied list to list\n",
    "def strlist2list(s):\n",
    "    try:\n",
    "        return(eval(s))\n",
    "    except:\n",
    "        return np.nan\n",
    "dockerfiles['tags_name']=dockerfiles['tags_name'].apply(lambda x: strlist2list(x))\n",
    "tags_name=dockerfiles['tags_name'].dropna()\n",
    "tags_name.index=range(0,len(tags_name))\n",
    "image_update_time=dockerfiles['image_updated_at'].apply(lambda x: strlist2list(x))\n",
    "\n",
    "# Ignore Docker images with only one latest tag\n",
    "non_latest_tags_name=dockerfiles['tags_name'].dropna()\n",
    "for i in non_latest_tags_name.index:\n",
    "    if(len(non_latest_tags_name[i])==1):\n",
    "        if('latest'== non_latest_tags_name[i][0]):\n",
    "            non_latest_tags_name[i]=np.nan\n",
    "non_latest_tags_name=non_latest_tags_name.dropna()"
   ]
  },
  {
   "cell_type": "code",
   "execution_count": 6,
   "metadata": {},
   "outputs": [
    {
     "name": "stdout",
     "output_type": "stream",
     "text": [
      "The proportion of Docker images which only have one latest tag:  0.48312396826257603\n"
     ]
    }
   ],
   "source": [
    "latest_only_count=0\n",
    "for i in range(len(tags_name)):\n",
    "    if(len(tags_name[i])==1):\n",
    "        if('latest'== tags_name[i][0]):\n",
    "            latest_only_count+=1\n",
    "print('The proportion of Docker images which only have one latest tag: ', latest_only_count/len(tags_name))"
   ]
  },
  {
   "cell_type": "code",
   "execution_count": 7,
   "metadata": {},
   "outputs": [
    {
     "name": "stdout",
     "output_type": "stream",
     "text": [
      "The number of Docker images with self-defined tags:  886415\n"
     ]
    }
   ],
   "source": [
    "print('The number of Docker images with self-defined tags: ', len(non_latest_tags_name))"
   ]
  },
  {
   "cell_type": "code",
   "execution_count": 8,
   "metadata": {},
   "outputs": [
    {
     "name": "stdout",
     "output_type": "stream",
     "text": [
      "The proportion of Docker images which do not have latest tag:  0.6977747443353283\n"
     ]
    }
   ],
   "source": [
    "without_latest_count=0\n",
    "for i in non_latest_tags_name.index:\n",
    "    if(not('latest' in non_latest_tags_name[i])):\n",
    "        without_latest_count+=1\n",
    "print('The proportion of Docker images which do not have latest tag: ', without_latest_count/len(non_latest_tags_name))"
   ]
  },
  {
   "cell_type": "code",
   "execution_count": 9,
   "metadata": {},
   "outputs": [
    {
     "name": "stdout",
     "output_type": "stream",
     "text": [
      "The proportion of Docker images which have overly long tag name:  0.06530462593706109\n"
     ]
    }
   ],
   "source": [
    "count=0\n",
    "long_tag_name_index=[]\n",
    "for i in non_latest_tags_name.index:\n",
    "    for j in range(len(non_latest_tags_name[i])):\n",
    "        if(len(non_latest_tags_name[i][j])>=20):\n",
    "            count+=1\n",
    "            long_tag_name_index.append(i)\n",
    "            break\n",
    "print('The proportion of Docker images which have overly long tag name: ', count/len(non_latest_tags_name))"
   ]
  },
  {
   "cell_type": "code",
   "execution_count": 10,
   "metadata": {},
   "outputs": [
    {
     "name": "stdout",
     "output_type": "stream",
     "text": [
      "The proportion of Docker images which use the image SHA as the tag name:  0.019212220009814814\n"
     ]
    }
   ],
   "source": [
    "count=0\n",
    "sha_tag_name_index=[]\n",
    "for i in non_latest_tags_name.index:\n",
    "    for j in range(len(non_latest_tags_name[i])):\n",
    "        if(len(non_latest_tags_name[i][j])>=40 and non_latest_tags_name[i][j].isalnum()):\n",
    "            count+=1\n",
    "            sha_tag_name_index.append(i)\n",
    "            break\n",
    "print('The proportion of Docker images which use the image SHA as the tag name: ', count/len(non_latest_tags_name))"
   ]
  },
  {
   "cell_type": "code",
   "execution_count": 11,
   "metadata": {},
   "outputs": [
    {
     "name": "stdout",
     "output_type": "stream",
     "text": [
      "The proportion of Docker images which have the latest tag, but the lastest tag does not point to the latest version of the image:  0.16109158802592466\n"
     ]
    }
   ],
   "source": [
    "count=0\n",
    "unmatched_latest_tag_index=[]\n",
    "for i in non_latest_tags_name.index:\n",
    "    if('latest' in non_latest_tags_name[i]):\n",
    "        if(non_latest_tags_name[i][0]!='latest'):\n",
    "            latest_index=non_latest_tags_name[i].index('latest')\n",
    "            if(pd.Timestamp(image_update_time[i][0])!=pd.Timestamp(image_update_time[i][latest_index])):\n",
    "                count+=1\n",
    "                unmatched_latest_tag_index.append(i)\n",
    "print('The proportion of Docker images which have the latest tag, but the lastest tag does not point to the latest version of the image: ', count/len(non_latest_tags_name))"
   ]
  },
  {
   "cell_type": "code",
   "execution_count": 14,
   "metadata": {},
   "outputs": [
    {
     "name": "stdout",
     "output_type": "stream",
     "text": [
      "The proportion of Docker images which have the latest tag, but there are at least 3 versions between the lastest image and the image the latest tag points to:  0.03715077023741701\n"
     ]
    }
   ],
   "source": [
    "count=0\n",
    "for i in non_latest_tags_name.index:\n",
    "    if('latest' in non_latest_tags_name[i]):\n",
    "        latest_index=non_latest_tags_name[i].index('latest')\n",
    "        time_diff=pd.Timestamp(image_update_time[i][0])-pd.Timestamp(image_update_time[i][latest_index])\n",
    "        if(latest_index>=3):\n",
    "            count+=1\n",
    "print('The proportion of Docker images which have the latest tag, but there are at least 3 versions between the lastest image and the image the latest tag points to: ', count/len(non_latest_tags_name))"
   ]
  },
  {
   "cell_type": "code",
   "execution_count": 15,
   "metadata": {},
   "outputs": [
    {
     "name": "stdout",
     "output_type": "stream",
     "text": [
      "The proportion of Docker images which have the latest tag, but the lastest tag points to an image which was updated more than 3 months ago comparing to the latest version of the image: 0.022824523501971426\n"
     ]
    }
   ],
   "source": [
    "count=0\n",
    "for i in non_latest_tags_name.index:\n",
    "    if('latest' in non_latest_tags_name[i]):\n",
    "        latest_index=non_latest_tags_name[i].index('latest')\n",
    "        time_diff=pd.Timestamp(image_update_time[i][0])-pd.Timestamp(image_update_time[i][latest_index])\n",
    "        if(time_diff.days>=90):\n",
    "            count+=1\n",
    "print('The proportion of Docker images which have the latest tag, but the lastest tag points to an image which was updated more than 3 months ago comparing to the latest version of the image:', count/len(non_latest_tags_name))"
   ]
  },
  {
   "cell_type": "code",
   "execution_count": null,
   "metadata": {},
   "outputs": [],
   "source": []
  }
 ],
 "metadata": {
  "kernelspec": {
   "display_name": "Python 3",
   "language": "python",
   "name": "python3"
  },
  "language_info": {
   "codemirror_mode": {
    "name": "ipython",
    "version": 3
   },
   "file_extension": ".py",
   "mimetype": "text/x-python",
   "name": "python",
   "nbconvert_exporter": "python",
   "pygments_lexer": "ipython3",
   "version": "3.5.2"
  }
 },
 "nbformat": 4,
 "nbformat_minor": 2
}
