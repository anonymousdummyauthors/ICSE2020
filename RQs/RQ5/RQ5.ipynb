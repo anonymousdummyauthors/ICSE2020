{
 "cells": [
  {
   "cell_type": "markdown",
   "metadata": {},
   "source": [
    "# RQ5: What is the evolution rate of Dockerfiles?"
   ]
  },
  {
   "cell_type": "markdown",
   "metadata": {},
   "source": [
    "## Load data and import libraries"
   ]
  },
  {
   "cell_type": "code",
   "execution_count": 1,
   "metadata": {},
   "outputs": [],
   "source": [
    "%load_ext autoreload\n",
    "\n",
    "# Auto reloading causes the kernel to reload the libraries we have\n",
    "%autoreload 2\n",
    "\n",
    "# usual imports for visualization, etc.\n",
    "import numpy as np\n",
    "import pandas as pd\n",
    "import matplotlib.pyplot as plt\n",
    "import matplotlib.dates as mdate\n",
    "import matplotlib.ticker as ticker\n",
    "import datetime\n",
    "import re\n",
    "\n",
    "# make it reproducible\n",
    "np.random.seed(0)\n",
    "\n",
    "# show plots inline\n",
    "%matplotlib inline"
   ]
  },
  {
   "cell_type": "code",
   "execution_count": 2,
   "metadata": {},
   "outputs": [],
   "source": [
    "data_folder = '../data/'\n",
    "\n",
    "docker_image_dataset = pd.read_csv(data_folder + 'docker_image_dataset.csv', error_bad_lines=False, warn_bad_lines=False,low_memory=False)\n",
    "dockerfiles = docker_image_dataset[docker_image_dataset['collection_method'].notnull()].copy()\n",
    "dockerfiles.index=range(0,dockerfiles.shape[0])"
   ]
  },
  {
   "cell_type": "markdown",
   "metadata": {},
   "source": [
    "## Define helper functions and defaults"
   ]
  },
  {
   "cell_type": "code",
   "execution_count": 3,
   "metadata": {},
   "outputs": [],
   "source": [
    "# Helper Functions\n",
    "!mkdir figs\n",
    "figs_dir = 'figs/'"
   ]
  },
  {
   "cell_type": "code",
   "execution_count": 4,
   "metadata": {},
   "outputs": [],
   "source": [
    "from cycler import cycler\n",
    "def set_plt_rc():\n",
    "    SMALL_SIZE = 8\n",
    "    MEDIUM_SIZE = 10\n",
    "    BIGGER_SIZE = 12\n",
    "    \n",
    "    font = {'family': 'serif','size': BIGGER_SIZE}\n",
    "    plt.rc('font', **font)\n",
    "\n",
    "    plt.rc('font', size=SMALL_SIZE)          # controls default text sizes\n",
    "    plt.rc('axes', titlesize=SMALL_SIZE)     # fontsize of the axes title\n",
    "    plt.rc('axes', labelsize=MEDIUM_SIZE)    # fontsize of the x and y labels\n",
    "    plt.rc('xtick', labelsize=SMALL_SIZE)    # fontsize of the tick labels\n",
    "    plt.rc('ytick', labelsize=SMALL_SIZE)    # fontsize of the tick labels\n",
    "    plt.rc('legend', fontsize=SMALL_SIZE)    # legend fontsize\n",
    "    plt.rc('figure', titlesize=BIGGER_SIZE)  # fontsize of the figure title\n",
    "        \n",
    "    plt.rc('axes', prop_cycle=(cycler(color=['#1f77b4', '#ff7f0e', '#2ca02c', '#d62728',\n",
    "                                         '#9467bd', '#8c564b', '#e377c2', '#7f7f7f',\n",
    "                                         '#bcbd22', '#17becf']) +\n",
    "                           cycler(linestyle=['-', '--', ':', '-.','-', '--', ':', '-.','-', '--'])))\n",
    "    \n",
    "set_plt_rc()"
   ]
  },
  {
   "cell_type": "markdown",
   "metadata": {},
   "source": [
    "## The evolution rate of Dockerfile versus the evolution rate of the source code"
   ]
  },
  {
   "cell_type": "code",
   "execution_count": 5,
   "metadata": {},
   "outputs": [],
   "source": [
    "# Function for converting stringified list into list\n",
    "def strlist2list(s):\n",
    "    try:\n",
    "        return(eval(s))\n",
    "    except:\n",
    "        return np.nan\n",
    "\n",
    "def commit_count(l):\n",
    "    if(type(l)!=list):\n",
    "        return np.nan\n",
    "    else:\n",
    "        length=len(l)\n",
    "        if(length==0):\n",
    "            return np.nan\n",
    "        else:\n",
    "            return length\n",
    "    \n",
    "\n",
    "dockerfiles['dockerfile_commit_count']=np.nan\n",
    "dockerfiles['dockerfile_commit_count']=dockerfiles['dockerfile_commit_sha'].apply(lambda x: commit_count(strlist2list(x)))"
   ]
  },
  {
   "cell_type": "code",
   "execution_count": 6,
   "metadata": {},
   "outputs": [
    {
     "name": "stdout",
     "output_type": "stream",
     "text": [
      "Average Dockerfile commit count:  5.879278935892334\n",
      "Average commit count:  10.690817899072544\n",
      "The ratio between the average commit count and average Dockerfile commit count:  1.818389298355332\n"
     ]
    }
   ],
   "source": [
    "print('Average Dockerfile commit count: ', dockerfiles['dockerfile_commit_count'].mean())\n",
    "print('Average commit count: ', dockerfiles['repo_commits_count'].mean())\n",
    "print('The ratio between the average commit count and average Dockerfile commit count: ', dockerfiles['repo_commits_count'].mean()/dockerfiles['dockerfile_commit_count'].mean())"
   ]
  },
  {
   "cell_type": "code",
   "execution_count": 7,
   "metadata": {},
   "outputs": [],
   "source": [
    "max_num_rows=dockerfiles.shape[0]\n",
    "ratio_between_dockerfile_and_all_commits=pd.Series([np.nan]*dockerfiles.shape[0])\n",
    "for i in range(max_num_rows):\n",
    "    row = dockerfiles.iloc[i, :]\n",
    "    ratio_between_dockerfile_and_all_commits[i]=row['repo_commits_count']/row['dockerfile_commit_count']\n",
    "dockerfiles['ratio_between_dockerfile_and_all_commits']=ratio_between_dockerfile_and_all_commits"
   ]
  },
  {
   "cell_type": "code",
   "execution_count": 8,
   "metadata": {},
   "outputs": [],
   "source": [
    "#Over time\n",
    "update_year=pd.DatetimeIndex(dockerfiles['updated_at']).year\n",
    "update_month=pd.DatetimeIndex(dockerfiles['updated_at']).month\n",
    "dockerfiles['update_year']=update_year\n",
    "dockerfiles['update_month']=update_month\n",
    "year_list=range(2014,2020)\n",
    "month_list=range(1,13)\n",
    "time=pd.Series()\n",
    "commit_ratio=pd.Series()\n",
    "for year in year_list:\n",
    "    for month in month_list:\n",
    "        if(year==2019 and month==4):\n",
    "            break\n",
    "        time=time.append(pd.Series(str(year)+'-'+str(month),index=[0]))\n",
    "        dockerfile=dockerfiles[dockerfiles['update_year']==year]\n",
    "        dockerfile=dockerfile[dockerfile['update_month']==month]\n",
    "        ratio=dockerfile['ratio_between_dockerfile_and_all_commits']\n",
    "        commit_ratio=commit_ratio.append(pd.Series(ratio.mean(),index=[0]))\n",
    "time.index=range(0,len(time))\n",
    "commit_ratio.index=range(0,len(commit_ratio))\n",
    "ratio_over_time=pd.concat([time,commit_ratio],axis=1,keys=['time','ratio'])"
   ]
  },
  {
   "cell_type": "code",
   "execution_count": 9,
   "metadata": {},
   "outputs": [
    {
     "data": {
      "image/png": "[encoded data removed]",
      "text/plain": [
       "<Figure size 288x144 with 1 Axes>"
      ]
     },
     "metadata": {},
     "output_type": "display_data"
    }
   ],
   "source": [
    "ratio_over_time['time']=ratio_over_time['time'].apply(lambda x:pd.Timestamp(x).year)\n",
    "year=pd.Series(range(2014,2020))\n",
    "ratio=pd.Series([0]*len(year))\n",
    "ratio_yearly=pd.concat([year,ratio],axis=1,keys=['Year','Ratio'])\n",
    "for y in range(2014,2020):\n",
    "    ratio_yearly.loc[y-2014,'Ratio']=ratio_over_time[ratio_over_time['time']==y]['ratio'].mean()\n",
    "fig=plt.figure(figsize=(4,2))\n",
    "ax=plt.subplot(111)\n",
    "ax.set_ylabel(\"Average Ratio\")\n",
    "ax.set_xlabel('Year')\n",
    "ax.grid()\n",
    "plt.plot(ratio_yearly['Year'],ratio_yearly['Ratio'])\n",
    "fig.tight_layout()\n",
    "fig.savefig(figs_dir+'commits-count-ratio-yearly', dpi=300)\n",
    "fig.savefig(figs_dir+'commits-count-ratio-yearly.pdf')"
   ]
  },
  {
   "cell_type": "code",
   "execution_count": 10,
   "metadata": {},
   "outputs": [
    {
     "name": "stdout",
     "output_type": "stream",
     "text": [
      "The average ratio between the commit count and Dockerfile commit count: 3.363241954839611\n"
     ]
    }
   ],
   "source": [
    "print('The average ratio between the commit count and Dockerfile commit count:',ratio_between_dockerfile_and_all_commits.mean())"
   ]
  },
  {
   "cell_type": "code",
   "execution_count": null,
   "metadata": {},
   "outputs": [],
   "source": []
  }
 ],
 "metadata": {
  "kernelspec": {
   "display_name": "Python 3",
   "language": "python",
   "name": "python3"
  },
  "language_info": {
   "codemirror_mode": {
    "name": "ipython",
    "version": 3
   },
   "file_extension": ".py",
   "mimetype": "text/x-python",
   "name": "python",
   "nbconvert_exporter": "python",
   "pygments_lexer": "ipython3",
   "version": "3.5.2"
  }
 },
 "nbformat": 4,
 "nbformat_minor": 2
}
