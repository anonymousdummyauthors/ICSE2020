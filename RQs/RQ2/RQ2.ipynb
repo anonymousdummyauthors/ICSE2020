{
 "cells": [
  {
   "cell_type": "markdown",
   "metadata": {},
   "source": [
    "# RQ2: What are the popular base images?"
   ]
  },
  {
   "cell_type": "markdown",
   "metadata": {},
   "source": [
    "## Load data and import libraries"
   ]
  },
  {
   "cell_type": "code",
   "execution_count": 8,
   "metadata": {},
   "outputs": [
    {
     "name": "stdout",
     "output_type": "stream",
     "text": [
      "The autoreload extension is already loaded. To reload it, use:\n",
      "  %reload_ext autoreload\n"
     ]
    }
   ],
   "source": [
    "%load_ext autoreload\n",
    "\n",
    "# Auto reloading causes the kernel to reload the libraries we have\n",
    "%autoreload 2\n",
    "\n",
    "# usual imports for visualization, etc.\n",
    "import numpy as np\n",
    "import pandas as pd\n",
    "import matplotlib.pyplot as plt\n",
    "import matplotlib.dates as mdate\n",
    "import matplotlib.ticker as ticker\n",
    "import datetime\n",
    "import re\n",
    "from collections import OrderedDict\n",
    "import matplotlib.colors as colors\n",
    "from tqdm import tqdm_notebook, _tqdm_notebook\n",
    "\n",
    "# make it reproducible\n",
    "np.random.seed(0)\n",
    "\n",
    "# show plots inline\n",
    "%matplotlib inline"
   ]
  },
  {
   "cell_type": "code",
   "execution_count": 2,
   "metadata": {},
   "outputs": [],
   "source": [
    "data_folder = '../data/'\n",
    "\n",
    "docker_image_dataset = pd.read_csv(data_folder + 'docker_image_dataset.csv', error_bad_lines=False, warn_bad_lines=False,low_memory=False)\n",
    "dockerimage_dataset = docker_image_dataset[docker_image_dataset['collection_method'].notnull()].copy()\n",
    "dockerimage_dataset.index=range(0,dockerimage_dataset.shape[0])"
   ]
  },
  {
   "cell_type": "markdown",
   "metadata": {},
   "source": [
    "## Define helper functions and defaults"
   ]
  },
  {
   "cell_type": "code",
   "execution_count": 3,
   "metadata": {},
   "outputs": [
    {
     "name": "stdout",
     "output_type": "stream",
     "text": [
      "mkdir: cannot create directory ‘figs’: File exists\r\n"
     ]
    }
   ],
   "source": [
    "# Helper Functions\n",
    "!mkdir figs\n",
    "figs_dir = 'figs/'\n",
    "colors_list = ['#e6194B', '#3cb44b', '#ffe119', '#4363d8', '#f58231', '#911eb4', '#42d4f4', '#f032e6', '#bfef45', '#fabebe', '#469990', '#e6beff', '#9A6324', '#800000', '#aaffc3', '#808000', '#ffd8b1', '#000075', '#a9a9a9']"
   ]
  },
  {
   "cell_type": "code",
   "execution_count": 4,
   "metadata": {},
   "outputs": [],
   "source": [
    "from cycler import cycler\n",
    "def set_plt_rc():\n",
    "    SMALL_SIZE = 8\n",
    "    MEDIUM_SIZE = 10\n",
    "    BIGGER_SIZE = 12\n",
    "    \n",
    "    font = {'family': 'serif','size': BIGGER_SIZE}\n",
    "    plt.rc('font', **font)\n",
    "\n",
    "    plt.rc('font', size=SMALL_SIZE)          # controls default text sizes\n",
    "    plt.rc('axes', titlesize=SMALL_SIZE)     # fontsize of the axes title\n",
    "    plt.rc('axes', labelsize=MEDIUM_SIZE)    # fontsize of the x and y labels\n",
    "    plt.rc('xtick', labelsize=SMALL_SIZE)    # fontsize of the tick labels\n",
    "    plt.rc('ytick', labelsize=SMALL_SIZE)    # fontsize of the tick labels\n",
    "    plt.rc('legend', fontsize=SMALL_SIZE)    # legend fontsize\n",
    "    plt.rc('figure', titlesize=BIGGER_SIZE)  # fontsize of the figure title\n",
    "        \n",
    "    plt.rc('axes', prop_cycle=(cycler(color=['#1f77b4', '#ff7f0e', '#2ca02c', '#d62728',\n",
    "                                         '#9467bd', '#8c564b', '#e377c2', '#7f7f7f',\n",
    "                                         '#bcbd22', '#17becf']) +\n",
    "                           cycler(linestyle=['-', '--', ':', '-.','-', '--', ':', '-.','-', '--'])))\n",
    "    \n",
    "set_plt_rc()"
   ]
  },
  {
   "cell_type": "markdown",
   "metadata": {},
   "source": [
    "## Popular Docker base images"
   ]
  },
  {
   "cell_type": "code",
   "execution_count": 5,
   "metadata": {},
   "outputs": [],
   "source": [
    "# Function for extracting Docker base images\n",
    "def base_image_parser(dockerfile):\n",
    "    result=[]\n",
    "    dockerfile=dockerfile.replace('\\t',' ')\n",
    "    try:\n",
    "        res=re.findall('(?<=FROM ).*?(?=\\\\n)',dockerfile,re.IGNORECASE)\n",
    "        if(res==[]):\n",
    "            res=re.findall('(?<=FROM ).*?(?=\\\\r)',dockerfile,re.IGNORECASE)\n",
    "        if(res==[]):\n",
    "            res=re.findall('(?<=FROM ).*',dockerfile,re.IGNORECASE)\n",
    "        for item in res:\n",
    "            base_image_full_name=item\n",
    "            res=re.findall('.+(?= AS)',base_image_full_name,re.IGNORECASE)\n",
    "            if(res!=[]):\n",
    "                base_image_full_name=res[-1]\n",
    "            name_split=base_image_full_name.split(':')\n",
    "            base_image_name=name_split[0]\n",
    "            characters=['\\r','\\n']\n",
    "            if(len(name_split)==1):\n",
    "                base_image_tag='latest'\n",
    "            else:\n",
    "                base_image_tag=name_split[1]\n",
    "            for char in characters:\n",
    "                base_image_full_name=base_image_full_name.replace(char,'')\n",
    "                base_image_name=base_image_name.replace(char,'')\n",
    "                base_image_tag=base_image_tag.replace(char,'')\n",
    "            result.append((base_image_full_name,base_image_name,base_image_tag))\n",
    "        return result\n",
    "    except:\n",
    "        return (np.nan,np.nan,np.nan)"
   ]
  },
  {
   "cell_type": "code",
   "execution_count": 6,
   "metadata": {},
   "outputs": [],
   "source": [
    "#Use unique Dockerfiles\n",
    "dockerfiles=dockerimage_dataset.iloc[dockerimage_dataset['latest_dockerfile'].drop_duplicates(keep=\"first\").index].copy()\n",
    "dockerfiles.index=range(0,dockerfiles.shape[0])"
   ]
  },
  {
   "cell_type": "code",
   "execution_count": 9,
   "metadata": {},
   "outputs": [
    {
     "data": {
      "application/vnd.jupyter.widget-view+json": {
       "model_id": "f62812a6cf974d4aadd0fef5c5f153f5",
       "version_major": 2,
       "version_minor": 0
      },
      "text/html": [
       "<p>Failed to display Jupyter Widget of type <code>HBox</code>.</p>\n",
       "<p>\n",
       "  If you're reading this message in the Jupyter Notebook or JupyterLab Notebook, it may mean\n",
       "  that the widgets JavaScript is still loading. If this message persists, it\n",
       "  likely means that the widgets JavaScript library is either not installed or\n",
       "  not enabled. See the <a href=\"https://ipywidgets.readthedocs.io/en/stable/user_install.html\">Jupyter\n",
       "  Widgets Documentation</a> for setup instructions.\n",
       "</p>\n",
       "<p>\n",
       "  If you're reading this message in another frontend (for example, a static\n",
       "  rendering on GitHub or <a href=\"https://nbviewer.jupyter.org/\">NBViewer</a>),\n",
       "  it may mean that your frontend doesn't currently support widgets.\n",
       "</p>\n"
      ],
      "text/plain": [
       "HBox(children=(IntProgress(value=0, max=246618), HTML(value='')))"
      ]
     },
     "metadata": {},
     "output_type": "display_data"
    },
    {
     "name": "stdout",
     "output_type": "stream",
     "text": [
      "\n"
     ]
    }
   ],
   "source": [
    "base_images = pd.DataFrame(columns=['image_name', 'update_year', 'base_image_name', 'base_image_tag'])\n",
    "for i in tqdm_notebook(dockerfiles.index):\n",
    "    result=base_image_parser(dockerfiles['latest_dockerfile'][i])\n",
    "    for tup in result:\n",
    "        base_images = base_images.append({'image_name': dockerfiles['image_name'][i], 'base_image_name':tup[1], 'base_image_tag':tup[2], 'update_year':pd.to_datetime(dockerfiles['pushed_at'][i]).year}, ignore_index=True)\n",
    "base_images.to_csv(data_folder +'RQ2_base_images.csv',index=False)"
   ]
  },
  {
   "cell_type": "code",
   "execution_count": 10,
   "metadata": {},
   "outputs": [],
   "source": [
    "base_images=pd.read_csv(data_folder +'RQ2_base_images.csv', error_bad_lines=False, warn_bad_lines=False,low_memory=False)"
   ]
  },
  {
   "cell_type": "code",
   "execution_count": 13,
   "metadata": {},
   "outputs": [
    {
     "name": "stdout",
     "output_type": "stream",
     "text": [
      "Top 15 most popular Docker base images\n",
      "ubuntu               11.659940\n",
      "alpine               10.317303\n",
      "node                  7.087257\n",
      "debian                4.941542\n",
      "python                4.659943\n",
      "golang                3.623241\n",
      "php                   2.931064\n",
      "centos                2.784702\n",
      "ruby                  2.401240\n",
      "openjdk               2.221851\n",
      "nginx                 1.918350\n",
      "java                  1.268586\n",
      "scratch               0.997417\n",
      "microsoft/dotnet      0.758232\n",
      "phusion/baseimage     0.684877\n",
      "Name: base_image_name, dtype: float64\n"
     ]
    }
   ],
   "source": [
    "base_image_name=base_images['base_image_name'].dropna()\n",
    "base_image_name_proportion=base_image_name.value_counts()/len(base_image_name)*100.0\n",
    "print('Top 15 most popular Docker base images')\n",
    "print(base_image_name_proportion[:15])"
   ]
  },
  {
   "cell_type": "code",
   "execution_count": 16,
   "metadata": {},
   "outputs": [],
   "source": [
    "year_list=range(2014,2020)\n",
    "all_base_image_name_trend=pd.DataFrame(columns=['Year','Image_Name','Proportion'])\n",
    "for year in year_list:\n",
    "    base=base_images[base_images['update_year']==year]\n",
    "    base_proportion=base['base_image_name'].value_counts()/len(base)*100.0\n",
    "    for i in range(base_proportion.size):\n",
    "        all_base_image_name_trend=all_base_image_name_trend.append(pd.DataFrame([[year,base_proportion.index[i],base_proportion[i]]],columns=['Year','Image_Name','Proportion']),ignore_index=True)\n",
    "# Over time\n",
    "base_trend=pd.DataFrame(columns=['Year','Image_Name','Proportion'])\n",
    "for year in year_list:\n",
    "    base=base_images[base_images['update_year']==year]\n",
    "    base_proportion=base['base_image_name'].value_counts()/len(base)*100.0\n",
    "    for i in range(15):\n",
    "        try:\n",
    "            base_trend=base_trend.append(pd.DataFrame([[year,base_proportion.index[i],base_proportion[i]]],columns=['Year','Image_Name','Proportion']),ignore_index=True)\n",
    "        except:\n",
    "            continue\n",
    "bs=base_trend['Image_Name'].drop_duplicates()\n",
    "bs.index=range(0,bs.size)\n",
    "for year in year_list:\n",
    "    for i in range(0,bs.size):\n",
    "        dt=base_trend.query(\"Year=={} and Image_Name=='{}'\".format(year,bs[i]))\n",
    "        if(dt.shape[0]==0):\n",
    "            try:\n",
    "                prop=all_base_image_name_trend.query(\"Year=={} and Image_Name=='{}'\".format(year,bs[i]))['Proportion']\n",
    "                prop=prop[prop.index[0]]\n",
    "            except:\n",
    "                prop=0\n",
    "            base_trend=base_trend.append(pd.DataFrame([[year,bs[i],prop]],columns=['Year','Image_Name','Proportion']),ignore_index=True)"
   ]
  },
  {
   "cell_type": "code",
   "execution_count": 46,
   "metadata": {},
   "outputs": [
    {
     "data": {
      "image/png": "[encoded data removed]",
      "text/plain": [
       "<Figure size 288x288 with 1 Axes>"
      ]
     },
     "metadata": {},
     "output_type": "display_data"
    }
   ],
   "source": [
    "fig=plt.figure(figsize=(4,4))\n",
    "plt.rc('font', size=8)\n",
    "plt.rc('axes', titlesize=6)\n",
    "plt.rc('axes', labelsize=8)\n",
    "ax=plt.subplot(111)\n",
    "ax.grid()\n",
    "#ax.set_ylim(1,25)\n",
    "bs=pd.Series(base_image_name_proportion[:10].index)\n",
    "for i in range(0,bs.size):\n",
    "    ax.plot(year_list, base_trend[base_trend['Image_Name']==bs[i]].sort_values(by=['Year'])['Proportion'], label=bs[i],color=colors_list[i]) \n",
    "ax.legend()\n",
    "ax.set_xlabel('Year')\n",
    "ax.set_ylabel('Proportion in Percentage')\n",
    "ax.legend(prop=dict(size=6))\n",
    "fig.savefig(figs_dir+'popular-base-images-over-time', dpi=300)\n",
    "fig.savefig(figs_dir+'popular-base-images-over-time.pdf')"
   ]
  },
  {
   "cell_type": "code",
   "execution_count": 58,
   "metadata": {},
   "outputs": [
    {
     "data": {
      "image/png": "[encoded data removed]",
      "text/plain": [
       "<Figure size 288x180 with 1 Axes>"
      ]
     },
     "metadata": {},
     "output_type": "display_data"
    }
   ],
   "source": [
    "os_base_images=['ubuntu','alpine','debian','centos']\n",
    "language_base_images=['node','python','golang','php','ruby','openjdk']\n",
    "os_base_image_trend=pd.DataFrame(columns=['Year','Proportion'])\n",
    "language_base_image_trend=pd.DataFrame(columns=['Year','Proportion'])\n",
    "for year in year_list:\n",
    "    prop=0\n",
    "    for osimg in os_base_images:\n",
    "        prop+=base_trend['Proportion'][base_trend.query(\"Year=={} and Image_Name=='{}'\".format(year,osimg)).index[0]]\n",
    "    os_base_image_trend = os_base_image_trend.append({'Year': year, 'Proportion':prop}, ignore_index=True)\n",
    "    prop=0\n",
    "    for langimg in language_base_images:\n",
    "        prop+=base_trend['Proportion'][base_trend.query(\"Year=={} and Image_Name=='{}'\".format(year,langimg)).index[0]]\n",
    "    language_base_image_trend = language_base_image_trend.append({'Year': year, 'Proportion':prop}, ignore_index=True)\n",
    "\n",
    "fig=plt.figure(figsize=(4,2.5))\n",
    "plt.rc('font', size=8)\n",
    "plt.rc('axes', titlesize=6)\n",
    "plt.rc('axes', labelsize=8)\n",
    "ax=plt.subplot(111)\n",
    "ax.grid()\n",
    "#ax.set_ylim(1,25)\n",
    "bs=pd.Series(base_image_name_proportion[:10].index)\n",
    "ax.plot(year_list, os_base_image_trend.sort_values(by=['Year'])['Proportion'], label='OS Base Images') \n",
    "ax.plot(year_list, language_base_image_trend.sort_values(by=['Year'])['Proportion'], label='Language Run-time Base Images') \n",
    "ax.legend()\n",
    "ax.set_xlabel('Year')\n",
    "ax.set_ylabel('Proportion in Percentage')\n",
    "ax.legend(prop=dict(size=6))\n",
    "fig.tight_layout()\n",
    "fig.savefig(figs_dir+'os-vs-lang-over-time', dpi=300)\n",
    "fig.savefig(figs_dir+'os-vs-lang-over-time.pdf')"
   ]
  },
  {
   "cell_type": "markdown",
   "metadata": {},
   "source": [
    "* The proportion of OS images (Ubuntu, Debian, Centos, and Alpine) are declining.\n",
    "* The porportion of language runtime (Node, Go, Python) images are increasing."
   ]
  },
  {
   "cell_type": "markdown",
   "metadata": {},
   "source": [
    "## Popular Ubuntu versions"
   ]
  },
  {
   "cell_type": "code",
   "execution_count": 18,
   "metadata": {},
   "outputs": [
    {
     "name": "stdout",
     "output_type": "stream",
     "text": [
      "Top 15 most popular tags for ubuntu base images\n",
      "16.04      30.120159\n",
      "latest     17.597424\n",
      "14.04      14.505501\n",
      "18.04      11.353946\n",
      "xenial      7.957900\n",
      "trusty      5.351978\n",
      "bionic      2.892155\n",
      "17.10       1.353648\n",
      "12.04       0.870628\n",
      "16.10       0.718566\n",
      "18.10       0.718566\n",
      "17.04       0.676824\n",
      "14.04.5     0.444259\n",
      "15.10       0.417424\n",
      "14.04.4     0.384627\n",
      "Name: base_image_tag, dtype: float64\n"
     ]
    }
   ],
   "source": [
    "ubuntu_images=base_images.query(\"base_image_name=='ubuntu'\")\n",
    "ubuntu_image_tags=ubuntu_images['base_image_tag']\n",
    "ubuntu_image_tags_proportion=ubuntu_image_tags.value_counts()/len(ubuntu_image_tags)*100.0\n",
    "print('Top 15 most popular tags for ubuntu base images')\n",
    "print(ubuntu_image_tags_proportion[:15])"
   ]
  },
  {
   "cell_type": "code",
   "execution_count": 19,
   "metadata": {},
   "outputs": [],
   "source": [
    "# Over time\n",
    "year_list=range(2014,2020)\n",
    "all_ubuntu_tag_trend=pd.DataFrame(columns=['Year','Tag_Name','Proportion'])\n",
    "for year in year_list:\n",
    "    tag=base_images.query(\"base_image_name=='ubuntu' and update_year=={}\".format(year))\n",
    "    tag_proportion=tag['base_image_tag'].value_counts()/len(tag)*100.0\n",
    "    for i in range(tag_proportion.size):\n",
    "        all_ubuntu_tag_trend=all_ubuntu_tag_trend.append(pd.DataFrame([[year,tag_proportion.index[i],tag_proportion[i]]],columns=['Year','Tag_Name','Proportion']),ignore_index=True)\n",
    "# Over time\n",
    "ubuntu_tag_trend=pd.DataFrame(columns=['Year','Tag_Name','Proportion'])\n",
    "for year in year_list:\n",
    "    tag=base_images.query(\"base_image_name=='ubuntu' and update_year=={}\".format(year))\n",
    "    tag_proportion=tag['base_image_tag'].value_counts()/len(tag)*100.0\n",
    "    for i in range(15):\n",
    "        try:\n",
    "            ubuntu_tag_trend=ubuntu_tag_trend.append(pd.DataFrame([[year,tag_proportion.index[i],tag_proportion[i]]],columns=['Year','Tag_Name','Proportion']),ignore_index=True)\n",
    "        except:\n",
    "            continue\n",
    "utg=ubuntu_tag_trend['Tag_Name'].drop_duplicates()\n",
    "utg.index=range(0,utg.size)\n",
    "for year in year_list:\n",
    "    for i in range(0,utg.size):\n",
    "        dt=ubuntu_tag_trend.query(\"Year=={} and Tag_Name=='{}'\".format(year,utg[i]))\n",
    "        if(dt.shape[0]==0):\n",
    "            try:\n",
    "                prop=all_ubuntu_tag_trend.query(\"Year=={} and Tag_Name=='{}'\".format(year,utg[i]))['Proportion']\n",
    "                prop=prop[prop.index[0]]\n",
    "            except:\n",
    "                prop=0\n",
    "            ubuntu_tag_trend=ubuntu_tag_trend.append(pd.DataFrame([[year,utg[i],prop]],columns=['Year','Tag_Name','Proportion']),ignore_index=True)"
   ]
  },
  {
   "cell_type": "code",
   "execution_count": 20,
   "metadata": {},
   "outputs": [
    {
     "data": {
      "image/png": "[encoded data removed]",
      "text/plain": [
       "<Figure size 288x288 with 1 Axes>"
      ]
     },
     "metadata": {},
     "output_type": "display_data"
    }
   ],
   "source": [
    "fig=plt.figure(figsize=(4,4))\n",
    "plt.rc('font', size=8)\n",
    "plt.rc('axes', titlesize=6)\n",
    "plt.rc('axes', labelsize=8)\n",
    "ax=plt.subplot(111)\n",
    "ax.grid()\n",
    "#ax.set_ylim(0,5)\n",
    "utg=pd.Series(ubuntu_image_tags_proportion[:10].index)\n",
    "for i in range(0,utg.size):\n",
    "    ax.plot(year_list, ubuntu_tag_trend[ubuntu_tag_trend['Tag_Name']==utg[i]].sort_values(by=['Year'])['Proportion'], label=utg[i]) \n",
    "ax.legend()\n",
    "ax.set_xlabel('Year')\n",
    "ax.set_ylabel('Proportion in Percentage')\n",
    "ax.legend(prop=dict(size=6))\n",
    "fig.savefig(figs_dir+'popular-ubuntu-tags-over-time', dpi=300)\n",
    "fig.savefig(figs_dir+'popular-ubuntu-tags-over-time.pdf')"
   ]
  },
  {
   "cell_type": "markdown",
   "metadata": {},
   "source": [
    "* Ubuntu 14.x has reached its end of standard support date, but there are still about 9% of ubuntu images using it."
   ]
  },
  {
   "cell_type": "code",
   "execution_count": 86,
   "metadata": {
    "scrolled": true
   },
   "outputs": [
    {
     "name": "stdout",
     "output_type": "stream",
     "text": [
      "The proportion of Ubuntu 14.x in 2019: 8.87148542816793%\n"
     ]
    }
   ],
   "source": [
    "print('The proportion of Ubuntu 14.x in 2019: {}%'.format(ubuntu_tag_trend.query(\"Year==2019 and (Tag_Name=='14.04' or Tag_Name=='trusty' or Tag_Name=='14.04.3' or Tag_Name=='14.04.5' or Tag_Name=='14.04.4')\")['Proportion'].sum()))"
   ]
  },
  {
   "cell_type": "code",
   "execution_count": null,
   "metadata": {},
   "outputs": [],
   "source": []
  }
 ],
 "metadata": {
  "kernelspec": {
   "display_name": "Python 3",
   "language": "python",
   "name": "python3"
  },
  "language_info": {
   "codemirror_mode": {
    "name": "ipython",
    "version": 3
   },
   "file_extension": ".py",
   "mimetype": "text/x-python",
   "name": "python",
   "nbconvert_exporter": "python",
   "pygments_lexer": "ipython3",
   "version": "3.5.2"
  }
 },
 "nbformat": 4,
 "nbformat_minor": 2
}
