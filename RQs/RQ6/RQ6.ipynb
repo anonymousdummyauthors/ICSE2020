{
 "cells": [
  {
   "cell_type": "markdown",
   "metadata": {},
   "source": [
    "# RQ6: What are prevalent code smells in Dockerfiles?"
   ]
  },
  {
   "cell_type": "markdown",
   "metadata": {},
   "source": [
    "## Load data and import libraries"
   ]
  },
  {
   "cell_type": "code",
   "execution_count": 1,
   "metadata": {},
   "outputs": [],
   "source": [
    "%load_ext autoreload\n",
    "\n",
    "# Auto reloading causes the kernel to reload the libraries we have\n",
    "%autoreload 2\n",
    "\n",
    "# usual imports for visualization, etc.\n",
    "import numpy as np\n",
    "import pandas as pd\n",
    "import matplotlib.pyplot as plt\n",
    "import matplotlib.dates as mdate\n",
    "import matplotlib.ticker as ticker\n",
    "from matplotlib.ticker import PercentFormatter\n",
    "import datetime\n",
    "import re\n",
    "import subprocess\n",
    "import os\n",
    "import json\n",
    "from tqdm import tqdm_notebook, _tqdm_notebook\n",
    "\n",
    "# make it reproducible\n",
    "np.random.seed(0)\n",
    "\n",
    "# show plots inline\n",
    "%matplotlib inline"
   ]
  },
  {
   "cell_type": "code",
   "execution_count": 2,
   "metadata": {},
   "outputs": [],
   "source": [
    "data_folder = '../data/'\n",
    "\n",
    "docker_image_dataset = pd.read_csv(data_folder + 'docker_image_dataset.csv', error_bad_lines=False, warn_bad_lines=False,low_memory=False)\n",
    "dockerimage_dataset = docker_image_dataset[docker_image_dataset['collection_method'].notnull()].copy()\n",
    "dockerimage_dataset.index=range(0,dockerimage_dataset.shape[0])"
   ]
  },
  {
   "cell_type": "markdown",
   "metadata": {},
   "source": [
    "## Define helper functions and defaults"
   ]
  },
  {
   "cell_type": "code",
   "execution_count": 3,
   "metadata": {},
   "outputs": [
    {
     "name": "stdout",
     "output_type": "stream",
     "text": [
      "mkdir: cannot create directory ‘figs’: File exists\r\n"
     ]
    }
   ],
   "source": [
    "# Helper Functions\n",
    "!mkdir figs\n",
    "figs_dir = 'figs/'"
   ]
  },
  {
   "cell_type": "code",
   "execution_count": 4,
   "metadata": {},
   "outputs": [],
   "source": [
    "from cycler import cycler\n",
    "def set_plt_rc():\n",
    "    SMALL_SIZE = 8\n",
    "    MEDIUM_SIZE = 10\n",
    "    BIGGER_SIZE = 12\n",
    "    \n",
    "    font = {'family': 'serif','size': BIGGER_SIZE}\n",
    "    plt.rc('font', **font)\n",
    "\n",
    "    plt.rc('font', size=SMALL_SIZE)          # controls default text sizes\n",
    "    plt.rc('axes', titlesize=SMALL_SIZE)     # fontsize of the axes title\n",
    "    plt.rc('axes', labelsize=MEDIUM_SIZE)    # fontsize of the x and y labels\n",
    "    plt.rc('xtick', labelsize=SMALL_SIZE)    # fontsize of the tick labels\n",
    "    plt.rc('ytick', labelsize=SMALL_SIZE)    # fontsize of the tick labels\n",
    "    plt.rc('legend', fontsize=SMALL_SIZE)    # legend fontsize\n",
    "    plt.rc('figure', titlesize=BIGGER_SIZE)  # fontsize of the figure title\n",
    "    plt.rc('text', usetex=True) # enable latex    \n",
    "    plt.rc('axes', prop_cycle=(cycler(color=['#1f77b4', '#ff7f0e', '#2ca02c', '#d62728',\n",
    "                                         '#9467bd', '#8c564b', '#e377c2', '#7f7f7f',\n",
    "                                         '#bcbd22', '#17becf']) +\n",
    "                           cycler(linestyle=['-', '--', ':', '-.','-', '--', ':', '-.','-', '--'])))\n",
    "    \n",
    "set_plt_rc()"
   ]
  },
  {
   "cell_type": "markdown",
   "metadata": {},
   "source": [
    "### Use Haskell Dockerfile Linter to analyze Dockerfiles\n",
    "* Haskell Dockerfile Linter must be installed to execute the following code block.\n",
    "* Installation Instructions: https://github.com/hadolint/hadolint\n",
    "* The following two code blocks may take few hours to execute.\n",
    "* The following two code blocks can be skipped as the SAT result was already stored in the data folder."
   ]
  },
  {
   "cell_type": "code",
   "execution_count": 5,
   "metadata": {},
   "outputs": [],
   "source": [
    "# Function for using hadolint AST to analyze Dockerfile\n",
    "def hadolint(dockerfile_str):\n",
    "    file_name = 'Dockerfile_hadolint_temp'  \n",
    "    with open(file_name, 'w') as file:\n",
    "        file.write(dockerfile_str)\n",
    "    proc_hadolint = subprocess.Popen(['hadolint', '-f', 'json', 'Dockerfile_hadolint_temp'],\n",
    "                                   stdout=subprocess.PIPE, stderr=subprocess.STDOUT)\n",
    "    hadolint_result = proc_hadolint.communicate()[0].decode('utf-8')\n",
    "    os.remove('Dockerfile_hadolint_temp')\n",
    "    return json.loads(hadolint_result)"
   ]
  },
  {
   "cell_type": "code",
   "execution_count": 6,
   "metadata": {},
   "outputs": [],
   "source": [
    "#drop duplicated dockerfile\n",
    "dockerfiles=dockerimage_dataset.iloc[dockerimage_dataset['latest_dockerfile'].drop_duplicates(keep=\"first\").index].copy()\n",
    "dockerfiles.index=range(0,dockerfiles.shape[0])"
   ]
  },
  {
   "cell_type": "code",
   "execution_count": 7,
   "metadata": {},
   "outputs": [
    {
     "data": {
      "application/vnd.jupyter.widget-view+json": {
       "model_id": "862d483f560244e6ab167d594ac807a8",
       "version_major": 2,
       "version_minor": 0
      },
      "text/html": [
       "<p>Failed to display Jupyter Widget of type <code>HBox</code>.</p>\n",
       "<p>\n",
       "  If you're reading this message in the Jupyter Notebook or JupyterLab Notebook, it may mean\n",
       "  that the widgets JavaScript is still loading. If this message persists, it\n",
       "  likely means that the widgets JavaScript library is either not installed or\n",
       "  not enabled. See the <a href=\"https://ipywidgets.readthedocs.io/en/stable/user_install.html\">Jupyter\n",
       "  Widgets Documentation</a> for setup instructions.\n",
       "</p>\n",
       "<p>\n",
       "  If you're reading this message in another frontend (for example, a static\n",
       "  rendering on GitHub or <a href=\"https://nbviewer.jupyter.org/\">NBViewer</a>),\n",
       "  it may mean that your frontend doesn't currently support widgets.\n",
       "</p>\n"
      ],
      "text/plain": [
       "HBox(children=(IntProgress(value=0, max=246618), HTML(value='')))"
      ]
     },
     "metadata": {},
     "output_type": "display_data"
    },
    {
     "name": "stdout",
     "output_type": "stream",
     "text": [
      "\n"
     ]
    }
   ],
   "source": [
    "smell_count=pd.Series([np.nan]*len(dockerfiles['latest_dockerfile']))\n",
    "violated_rule=pd.Series([np.nan]*len(dockerfiles['latest_dockerfile']))\n",
    "if(os.path.isfile('Dockerfile_hadolint_temp')):\n",
    "    os.remove('Dockerfile_hadolint_temp')\n",
    "list_range=range(0,len(dockerfiles['latest_dockerfile']))\n",
    "for i in tqdm_notebook(list_range):\n",
    "    result=hadolint(str(dockerfiles['latest_dockerfile'][i]))\n",
    "    smell_count[i]=len(result)\n",
    "    if(len(result)!=0):\n",
    "        error_list=[]\n",
    "        for item in result:\n",
    "            error_list.append(item['code'])\n",
    "        violated_rule[i]=error_list\n",
    "RQ6_SAT_result=pd.concat([dockerfiles['image_name'],dockerfiles['latest_dockerfile'],smell_count,violated_rule],axis=1,keys=['image_name','latest_dockerfile','smell_count','violated_rule'])\n",
    "RQ6_SAT_result.to_csv(data_folder +'RQ6_SAT_result.csv',index=False)\n",
    "RQ6_SAT_result = pd.read_csv(data_folder + 'RQ6_SAT_result.csv', error_bad_lines=False, warn_bad_lines=False,low_memory=False)"
   ]
  },
  {
   "cell_type": "markdown",
   "metadata": {},
   "source": [
    "### Smell Count Distribution"
   ]
  },
  {
   "cell_type": "code",
   "execution_count": 8,
   "metadata": {},
   "outputs": [],
   "source": [
    "RQ6_SAT_result = pd.read_csv(data_folder + 'RQ6_SAT_result.csv', error_bad_lines=False, warn_bad_lines=False,low_memory=False)\n",
    "\n",
    "def get_dockerfile_update_year(l):\n",
    "    if(type(l)!=list):\n",
    "        return np.nan\n",
    "    elif(len(l)==0):\n",
    "        return np.nan\n",
    "    else:\n",
    "        return max(l).year\n",
    "    \n",
    "dockerfiles['dockerfile_commit_date']=dockerfiles['dockerfile_commit_date'].apply(lambda x: np.nan if pd.isna(x) else eval(x.replace('Timestamp','pd.Timestamp')))\n",
    "dockerfile_update_year=dockerfiles['dockerfile_commit_date'].apply(lambda x: np.nan if type(x)!=list else get_dockerfile_update_year(x))\n",
    "RQ6_SAT_result['update_year']=dockerfile_update_year"
   ]
  },
  {
   "cell_type": "code",
   "execution_count": 9,
   "metadata": {},
   "outputs": [
    {
     "name": "stdout",
     "output_type": "stream",
     "text": [
      "Average smell count in Dockerfiles:  4.133550673511261\n",
      "The median of smell count in Dockerfiles:  3.0\n",
      "25th quantile of smell count in Dockerfiles:  1.0\n",
      "75th quantile of smell count in Dockerfiles:  5.0\n",
      "Proportion of Dockerfiles which are code smell-free: 9.927093723896876%\n",
      "Proportion of Dockerfiles which contain 1 to 3 code smells: 46.426457111808546%\n",
      "Proportion of Dockerfiles which contain 5 or more code smells: 31.666382826882067%\n"
     ]
    }
   ],
   "source": [
    "smell_count=RQ6_SAT_result['smell_count']\n",
    "weights=smell_count.value_counts()/len(smell_count)\n",
    "print('Average smell count in Dockerfiles: ',smell_count.mean())\n",
    "print('The median of smell count in Dockerfiles: ',smell_count.median())\n",
    "print('25th quantile of smell count in Dockerfiles: ',smell_count.quantile(.25))\n",
    "print('75th quantile of smell count in Dockerfiles: ',smell_count.quantile(.75))\n",
    "print('Proportion of Dockerfiles which are code smell-free: {}%'.format(weights[0]*100.0))\n",
    "print('Proportion of Dockerfiles which contain 1 to 3 code smells: {}%'.format(np.sum(weights[1:3])*100.0))\n",
    "print('Proportion of Dockerfiles which contain 5 or more code smells: {}%'.format((1-(np.sum(weights[:4])+weights[0]))*100.0))"
   ]
  },
  {
   "cell_type": "code",
   "execution_count": 10,
   "metadata": {},
   "outputs": [
    {
     "data": {
      "image/png": "[encoded data removed]",
      "text/plain": [
       "<Figure size 288x144 with 1 Axes>"
      ]
     },
     "metadata": {},
     "output_type": "display_data"
    }
   ],
   "source": [
    "fig=plt.figure(figsize=(4,2))\n",
    "ax=plt.subplot(111)\n",
    "ax.set_xlim(0,16)\n",
    "ax.grid()\n",
    "plt.xticks([0,1,2,3,4,5,6,7,8,9,10,11,12,13,14,15,16,17])\n",
    "plt.xlim([-0.5, 16.5])\n",
    "plt.gca().yaxis.set_major_formatter(PercentFormatter(1))\n",
    "ax.set_ylabel(\"Proportion in Percentage\")\n",
    "ax.set_xlabel('Smell Count')\n",
    "plt.hist(smell_count, bins=18,rwidth=0.6,align='left',range=(0,18), weights=np.ones(len(smell_count)) / len(smell_count))\n",
    "fig.tight_layout()\n",
    "fig.savefig(figs_dir+'smell-count-distribution', dpi=300)\n",
    "fig.savefig(figs_dir+'smell-count-distribution.pdf')"
   ]
  },
  {
   "cell_type": "markdown",
   "metadata": {},
   "source": [
    "### The average total number of code smells in Dockerfiles over time"
   ]
  },
  {
   "cell_type": "code",
   "execution_count": 11,
   "metadata": {},
   "outputs": [
    {
     "data": {
      "image/png": "[encoded data removed]",
      "text/plain": [
       "<Figure size 288x144 with 1 Axes>"
      ]
     },
     "metadata": {},
     "output_type": "display_data"
    }
   ],
   "source": [
    "count_data=[]\n",
    "year_list = range(2014, 2020)\n",
    "for year in year_list:\n",
    "    smell_count=RQ6_SAT_result[RQ6_SAT_result['update_year']==year]['smell_count']\n",
    "    avg=smell_count.mean()\n",
    "    std=smell_count.std()\n",
    "    smell_count=smell_count[smell_count<=16]\n",
    "    count_data.append(smell_count.mean())\n",
    "fig=plt.figure(figsize=(4,2))\n",
    "ax=plt.subplot(111)\n",
    "ax.set_ylabel(\"Average Smell Count\")\n",
    "ax.set_xlabel('Year')\n",
    "ax.grid()\n",
    "plt.plot(year_list,count_data)\n",
    "fig.tight_layout()\n",
    "fig.savefig(figs_dir+'smell-count-over-time', dpi=300)\n",
    "fig.savefig(figs_dir+'smell-count-over-time.pdf')"
   ]
  },
  {
   "cell_type": "markdown",
   "metadata": {},
   "source": [
    "### Prevalent Code Smells in Dockerfiles\n",
    "* The following code block may take twenty minutes to execute.\n",
    "* The following code block can be skipped as the result was alread saved in the data folder.\n",
    "* Best practices of writing Dockerfiles: https://docs.docker.com/develop/develop-images/dockerfile_best-practices/\n",
    "* The definition of the rule code: https://github.com/hadolint/hadolint/wiki"
   ]
  },
  {
   "cell_type": "code",
   "execution_count": 12,
   "metadata": {
    "scrolled": true
   },
   "outputs": [
    {
     "data": {
      "application/vnd.jupyter.widget-view+json": {
       "model_id": "44b2332e560b4dd480dc71c76ab0d378",
       "version_major": 2,
       "version_minor": 0
      },
      "text/html": [
       "<p>Failed to display Jupyter Widget of type <code>HBox</code>.</p>\n",
       "<p>\n",
       "  If you're reading this message in the Jupyter Notebook or JupyterLab Notebook, it may mean\n",
       "  that the widgets JavaScript is still loading. If this message persists, it\n",
       "  likely means that the widgets JavaScript library is either not installed or\n",
       "  not enabled. See the <a href=\"https://ipywidgets.readthedocs.io/en/stable/user_install.html\">Jupyter\n",
       "  Widgets Documentation</a> for setup instructions.\n",
       "</p>\n",
       "<p>\n",
       "  If you're reading this message in another frontend (for example, a static\n",
       "  rendering on GitHub or <a href=\"https://nbviewer.jupyter.org/\">NBViewer</a>),\n",
       "  it may mean that your frontend doesn't currently support widgets.\n",
       "</p>\n"
      ],
      "text/plain": [
       "HBox(children=(IntProgress(value=0, max=222136), HTML(value='')))"
      ]
     },
     "metadata": {},
     "output_type": "display_data"
    },
    {
     "name": "stdout",
     "output_type": "stream",
     "text": [
      "\n"
     ]
    }
   ],
   "source": [
    "violated_rule=RQ6_SAT_result['violated_rule']\n",
    "violated_rule=violated_rule.dropna()\n",
    "violated_rule=violated_rule.apply(lambda x: eval(x))\n",
    "violated_rule.index=range(0,len(violated_rule))\n",
    "prevalent_code_smell=pd.DataFrame(columns=['rule','count'])\n",
    "list_range=range(0,len(violated_rule))\n",
    "for i in tqdm_notebook(list_range):\n",
    "    for item in violated_rule[i]:\n",
    "        if(item in prevalent_code_smell['rule'].tolist()):\n",
    "            prevalent_code_smell.loc[prevalent_code_smell['rule']==item, 'count']=prevalent_code_smell.loc[prevalent_code_smell['rule']==item, 'count'][prevalent_code_smell.loc[prevalent_code_smell['rule']==item, 'count'].index[0]]+1\n",
    "        else:\n",
    "            prevalent_code_smell=prevalent_code_smell.append(pd.Series([item, 1],index=prevalent_code_smell.columns),ignore_index=True)\n",
    "prevalent_code_smell=prevalent_code_smell.sort_values('count',ascending=False)\n",
    "prevalent_code_smell.to_csv(data_folder +'RQ6_prevalent_code_smell.csv',index=False)"
   ]
  },
  {
   "cell_type": "code",
   "execution_count": 13,
   "metadata": {},
   "outputs": [
    {
     "name": "stdout",
     "output_type": "stream",
     "text": [
      "Top 15 most prevalent code smells in Dockerfiles:\n",
      "DL3008  13.590632994836218%\n",
      "DL3015  10.992556464143895%\n",
      "DL3020  9.292648282140222%\n",
      "DL4000  8.865439549228572%\n",
      "DL3009  6.604323293519377%\n",
      "DL4006  6.353883822767724%\n",
      "DL3018  6.200167155839468%\n",
      "DL3003  5.920298840111124%\n",
      "DL3006  4.042248049848539%\n",
      "DL3013  3.5152755324659015%\n",
      "DL4001  3.0758047808139626%\n",
      "DL3025  2.7890697345910564%\n",
      "DL3007  2.763859024061024%\n",
      "DL3019  2.3616648093795614%\n",
      "SC2086  1.5918062247892895%\n"
     ]
    }
   ],
   "source": [
    "prevalent_code_smell=pd.read_csv(data_folder +'RQ6_prevalent_code_smell.csv', error_bad_lines=False, warn_bad_lines=False,low_memory=False)\n",
    "top15_proportion=prevalent_code_smell['count'][:15]/prevalent_code_smell['count'].sum()\n",
    "print('Top 15 most prevalent code smells in Dockerfiles:')\n",
    "for i in range(15):\n",
    "    print('{}  {}%'.format(prevalent_code_smell['rule'][i],top15_proportion[i]*100.0))"
   ]
  },
  {
   "cell_type": "code",
   "execution_count": 14,
   "metadata": {
    "scrolled": true
   },
   "outputs": [
    {
     "data": {
      "application/vnd.jupyter.widget-view+json": {
       "model_id": "57c5c86740be424c85a8c2f5302ef38a",
       "version_major": 2,
       "version_minor": 0
      },
      "text/html": [
       "<p>Failed to display Jupyter Widget of type <code>HBox</code>.</p>\n",
       "<p>\n",
       "  If you're reading this message in the Jupyter Notebook or JupyterLab Notebook, it may mean\n",
       "  that the widgets JavaScript is still loading. If this message persists, it\n",
       "  likely means that the widgets JavaScript library is either not installed or\n",
       "  not enabled. See the <a href=\"https://ipywidgets.readthedocs.io/en/stable/user_install.html\">Jupyter\n",
       "  Widgets Documentation</a> for setup instructions.\n",
       "</p>\n",
       "<p>\n",
       "  If you're reading this message in another frontend (for example, a static\n",
       "  rendering on GitHub or <a href=\"https://nbviewer.jupyter.org/\">NBViewer</a>),\n",
       "  it may mean that your frontend doesn't currently support widgets.\n",
       "</p>\n"
      ],
      "text/plain": [
       "HBox(children=(IntProgress(value=0, max=192), HTML(value='')))"
      ]
     },
     "metadata": {},
     "output_type": "display_data"
    },
    {
     "name": "stdout",
     "output_type": "stream",
     "text": [
      "\n"
     ]
    },
    {
     "data": {
      "application/vnd.jupyter.widget-view+json": {
       "model_id": "e868c2e267824998a09fbc745865eaaa",
       "version_major": 2,
       "version_minor": 0
      },
      "text/html": [
       "<p>Failed to display Jupyter Widget of type <code>HBox</code>.</p>\n",
       "<p>\n",
       "  If you're reading this message in the Jupyter Notebook or JupyterLab Notebook, it may mean\n",
       "  that the widgets JavaScript is still loading. If this message persists, it\n",
       "  likely means that the widgets JavaScript library is either not installed or\n",
       "  not enabled. See the <a href=\"https://ipywidgets.readthedocs.io/en/stable/user_install.html\">Jupyter\n",
       "  Widgets Documentation</a> for setup instructions.\n",
       "</p>\n",
       "<p>\n",
       "  If you're reading this message in another frontend (for example, a static\n",
       "  rendering on GitHub or <a href=\"https://nbviewer.jupyter.org/\">NBViewer</a>),\n",
       "  it may mean that your frontend doesn't currently support widgets.\n",
       "</p>\n"
      ],
      "text/plain": [
       "HBox(children=(IntProgress(value=0, max=968), HTML(value='')))"
      ]
     },
     "metadata": {},
     "output_type": "display_data"
    },
    {
     "name": "stdout",
     "output_type": "stream",
     "text": [
      "\n"
     ]
    },
    {
     "data": {
      "application/vnd.jupyter.widget-view+json": {
       "model_id": "ba098d57e1df430f8decd89fd27fa2a2",
       "version_major": 2,
       "version_minor": 0
      },
      "text/html": [
       "<p>Failed to display Jupyter Widget of type <code>HBox</code>.</p>\n",
       "<p>\n",
       "  If you're reading this message in the Jupyter Notebook or JupyterLab Notebook, it may mean\n",
       "  that the widgets JavaScript is still loading. If this message persists, it\n",
       "  likely means that the widgets JavaScript library is either not installed or\n",
       "  not enabled. See the <a href=\"https://ipywidgets.readthedocs.io/en/stable/user_install.html\">Jupyter\n",
       "  Widgets Documentation</a> for setup instructions.\n",
       "</p>\n",
       "<p>\n",
       "  If you're reading this message in another frontend (for example, a static\n",
       "  rendering on GitHub or <a href=\"https://nbviewer.jupyter.org/\">NBViewer</a>),\n",
       "  it may mean that your frontend doesn't currently support widgets.\n",
       "</p>\n"
      ],
      "text/plain": [
       "HBox(children=(IntProgress(value=0, max=24360), HTML(value='')))"
      ]
     },
     "metadata": {},
     "output_type": "display_data"
    },
    {
     "name": "stdout",
     "output_type": "stream",
     "text": [
      "\n"
     ]
    },
    {
     "data": {
      "application/vnd.jupyter.widget-view+json": {
       "model_id": "795ea04097124f8f898cd0fc6dacb2f4",
       "version_major": 2,
       "version_minor": 0
      },
      "text/html": [
       "<p>Failed to display Jupyter Widget of type <code>HBox</code>.</p>\n",
       "<p>\n",
       "  If you're reading this message in the Jupyter Notebook or JupyterLab Notebook, it may mean\n",
       "  that the widgets JavaScript is still loading. If this message persists, it\n",
       "  likely means that the widgets JavaScript library is either not installed or\n",
       "  not enabled. See the <a href=\"https://ipywidgets.readthedocs.io/en/stable/user_install.html\">Jupyter\n",
       "  Widgets Documentation</a> for setup instructions.\n",
       "</p>\n",
       "<p>\n",
       "  If you're reading this message in another frontend (for example, a static\n",
       "  rendering on GitHub or <a href=\"https://nbviewer.jupyter.org/\">NBViewer</a>),\n",
       "  it may mean that your frontend doesn't currently support widgets.\n",
       "</p>\n"
      ],
      "text/plain": [
       "HBox(children=(IntProgress(value=0, max=39507), HTML(value='')))"
      ]
     },
     "metadata": {},
     "output_type": "display_data"
    },
    {
     "name": "stdout",
     "output_type": "stream",
     "text": [
      "\n"
     ]
    },
    {
     "data": {
      "application/vnd.jupyter.widget-view+json": {
       "model_id": "a18441c3ada349049eac732920b277b9",
       "version_major": 2,
       "version_minor": 0
      },
      "text/html": [
       "<p>Failed to display Jupyter Widget of type <code>HBox</code>.</p>\n",
       "<p>\n",
       "  If you're reading this message in the Jupyter Notebook or JupyterLab Notebook, it may mean\n",
       "  that the widgets JavaScript is still loading. If this message persists, it\n",
       "  likely means that the widgets JavaScript library is either not installed or\n",
       "  not enabled. See the <a href=\"https://ipywidgets.readthedocs.io/en/stable/user_install.html\">Jupyter\n",
       "  Widgets Documentation</a> for setup instructions.\n",
       "</p>\n",
       "<p>\n",
       "  If you're reading this message in another frontend (for example, a static\n",
       "  rendering on GitHub or <a href=\"https://nbviewer.jupyter.org/\">NBViewer</a>),\n",
       "  it may mean that your frontend doesn't currently support widgets.\n",
       "</p>\n"
      ],
      "text/plain": [
       "HBox(children=(IntProgress(value=0, max=62869), HTML(value='')))"
      ]
     },
     "metadata": {},
     "output_type": "display_data"
    },
    {
     "name": "stdout",
     "output_type": "stream",
     "text": [
      "\n"
     ]
    },
    {
     "data": {
      "application/vnd.jupyter.widget-view+json": {
       "model_id": "db2861ddb1dc458fab6ade1e43d27499",
       "version_major": 2,
       "version_minor": 0
      },
      "text/html": [
       "<p>Failed to display Jupyter Widget of type <code>HBox</code>.</p>\n",
       "<p>\n",
       "  If you're reading this message in the Jupyter Notebook or JupyterLab Notebook, it may mean\n",
       "  that the widgets JavaScript is still loading. If this message persists, it\n",
       "  likely means that the widgets JavaScript library is either not installed or\n",
       "  not enabled. See the <a href=\"https://ipywidgets.readthedocs.io/en/stable/user_install.html\">Jupyter\n",
       "  Widgets Documentation</a> for setup instructions.\n",
       "</p>\n",
       "<p>\n",
       "  If you're reading this message in another frontend (for example, a static\n",
       "  rendering on GitHub or <a href=\"https://nbviewer.jupyter.org/\">NBViewer</a>),\n",
       "  it may mean that your frontend doesn't currently support widgets.\n",
       "</p>\n"
      ],
      "text/plain": [
       "HBox(children=(IntProgress(value=0, max=64831), HTML(value='')))"
      ]
     },
     "metadata": {},
     "output_type": "display_data"
    },
    {
     "name": "stdout",
     "output_type": "stream",
     "text": [
      "\n"
     ]
    }
   ],
   "source": [
    "# Function for converting stringied list to list\n",
    "def strlist2list(s):\n",
    "    try:\n",
    "        return(eval(s))\n",
    "    except:\n",
    "        return np.nan\n",
    "RQ6_SAT_result['violated_rule'] = RQ6_SAT_result[\n",
    "    'violated_rule'].apply(lambda x: strlist2list(x))\n",
    "RQ6_SAT_result['update_year'] = pd.DatetimeIndex(\n",
    "    dockerfiles['updated_at']).year\n",
    "code_smell_trend = pd.DataFrame(columns=['rule', 'count', 'year'])\n",
    "year_list = range(2014, 2020)\n",
    "for year in year_list:\n",
    "    violated_rule_year = RQ6_SAT_result[\n",
    "        RQ6_SAT_result['update_year'] == year]['violated_rule']\n",
    "    violated_rule_year = violated_rule_year.dropna()\n",
    "    list_range = range(0, len(violated_rule_year))\n",
    "    violated_rule_year.index = list_range\n",
    "    for i in tqdm_notebook(list_range):\n",
    "        for item in violated_rule_year[i]:\n",
    "            if(item in code_smell_trend[code_smell_trend['year'] == year]['rule'].tolist()):\n",
    "                code_smell_trend.loc[(code_smell_trend['rule'] == item) & (code_smell_trend['year'] == year), 'count'] = code_smell_trend.loc[(code_smell_trend[\n",
    "                    'rule'] == item) & (code_smell_trend['year'] == year), 'count'][code_smell_trend.loc[(code_smell_trend['rule'] == item) & (code_smell_trend['year'] == year), 'count'].index[0]] + 1\n",
    "            else:\n",
    "                code_smell_trend = code_smell_trend.append(\n",
    "                    pd.Series([item, 1, year], index=code_smell_trend.columns), ignore_index=True)\n",
    "code_smell_trend.to_csv(data_folder + 'RQ6_code_smell_trend.csv', index=False)\n"
   ]
  },
  {
   "cell_type": "code",
   "execution_count": 15,
   "metadata": {},
   "outputs": [],
   "source": [
    "code_smell_trend = pd.read_csv(data_folder + 'RQ6_code_smell_trend.csv', error_bad_lines=False, warn_bad_lines=False,low_memory=False)\n",
    "code_smell_trend['proportion']=pd.Series()\n",
    "semll_count={}\n",
    "for year in year_list:\n",
    "    semll_count[year]=(code_smell_trend[code_smell_trend['year']==year]['count'].sum())\n",
    "for i in range(len(code_smell_trend)):\n",
    "    code_smell_trend.loc[i,['proportion']] = code_smell_trend['count'][i]/semll_count[code_smell_trend['year'][i]]*100.0"
   ]
  },
  {
   "cell_type": "code",
   "execution_count": 16,
   "metadata": {},
   "outputs": [
    {
     "data": {
      "image/png": "[encoded data removed]",
      "text/plain": [
       "<Figure size 288x252 with 1 Axes>"
      ]
     },
     "metadata": {},
     "output_type": "display_data"
    }
   ],
   "source": [
    "fig=plt.figure(figsize=(4,3.5))\n",
    "ax=plt.subplot(111)\n",
    "ax.grid()\n",
    "ax.set_ylim(0,25)\n",
    "cst=pd.Series(prevalent_code_smell[:10]['rule'])\n",
    "for i in range(0,cst.size):\n",
    "    ax.plot(year_list, code_smell_trend[code_smell_trend['rule']==cst[i]].sort_values(by=['year'])['proportion'], label=cst[i]) \n",
    "ax.legend()\n",
    "ax.set_xlabel('Year')\n",
    "ax.set_ylabel('Proportion in Percentage')\n",
    "ax.legend(prop=dict(size=6))\n",
    "fig.savefig(figs_dir+'popular-code-smells-over-time', dpi=300)\n",
    "fig.savefig(figs_dir+'popular-code-smells-over-time.pdf')"
   ]
  },
  {
   "cell_type": "code",
   "execution_count": null,
   "metadata": {},
   "outputs": [],
   "source": []
  }
 ],
 "metadata": {
  "kernelspec": {
   "display_name": "Python 3",
   "language": "python",
   "name": "python3"
  },
  "language_info": {
   "codemirror_mode": {
    "name": "ipython",
    "version": 3
   },
   "file_extension": ".py",
   "mimetype": "text/x-python",
   "name": "python",
   "nbconvert_exporter": "python",
   "pygments_lexer": "ipython3",
   "version": "3.5.2"
  }
 },
 "nbformat": 4,
 "nbformat_minor": 2
}
