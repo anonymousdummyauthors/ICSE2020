{
 "cells": [
  {
   "cell_type": "markdown",
   "metadata": {},
   "source": [
    "# RQ0 - About the dataset"
   ]
  },
  {
   "cell_type": "markdown",
   "metadata": {},
   "source": [
    "## Load data and import libraries"
   ]
  },
  {
   "cell_type": "code",
   "execution_count": 1,
   "metadata": {},
   "outputs": [],
   "source": [
    "%load_ext autoreload\n",
    "\n",
    "# Auto reloading causes the kernel to reload the libraries we have\n",
    "%autoreload 2\n",
    "\n",
    "# usual imports for visualization, etc.\n",
    "import numpy as np\n",
    "import pandas as pd\n",
    "import matplotlib.pyplot as plt\n",
    "import matplotlib.dates as mdate\n",
    "import matplotlib.ticker as ticker\n",
    "from matplotlib.ticker import PercentFormatter\n",
    "import datetime\n",
    "import re\n",
    "import subprocess\n",
    "import os\n",
    "import json\n",
    "from tqdm import tqdm_notebook, _tqdm_notebook\n",
    "\n",
    "# make it reproducible\n",
    "np.random.seed(0)\n",
    "\n",
    "# show plots inline\n",
    "%matplotlib inline"
   ]
  },
  {
   "cell_type": "code",
   "execution_count": 2,
   "metadata": {},
   "outputs": [],
   "source": [
    "data_folder = '../data/'\n",
    "dockerimage_dataset = pd.read_csv(data_folder + 'docker_image_dataset.csv', error_bad_lines=False, warn_bad_lines=False,low_memory=False)"
   ]
  },
  {
   "cell_type": "markdown",
   "metadata": {},
   "source": [
    "## Define helper functions and defaults\n"
   ]
  },
  {
   "cell_type": "code",
   "execution_count": 3,
   "metadata": {},
   "outputs": [],
   "source": [
    "# Helper Functions\n",
    "!mkdir figs\n",
    "figs_dir = 'figs/'"
   ]
  },
  {
   "cell_type": "code",
   "execution_count": 4,
   "metadata": {},
   "outputs": [],
   "source": [
    "from cycler import cycler\n",
    "def set_plt_rc():\n",
    "    SMALL_SIZE = 8\n",
    "    MEDIUM_SIZE = 10\n",
    "    BIGGER_SIZE = 12\n",
    "    \n",
    "    font = {'family': 'serif','size': BIGGER_SIZE}\n",
    "    plt.rc('font', **font)\n",
    "\n",
    "    plt.rc('font', size=SMALL_SIZE)          # controls default text sizes\n",
    "    plt.rc('axes', titlesize=SMALL_SIZE)     # fontsize of the axes title\n",
    "    plt.rc('axes', labelsize=MEDIUM_SIZE)    # fontsize of the x and y labels\n",
    "    plt.rc('xtick', labelsize=SMALL_SIZE)    # fontsize of the tick labels\n",
    "    plt.rc('ytick', labelsize=SMALL_SIZE)    # fontsize of the tick labels\n",
    "    plt.rc('legend', fontsize=SMALL_SIZE)    # legend fontsize\n",
    "    plt.rc('figure', titlesize=BIGGER_SIZE)  # fontsize of the figure title\n",
    "    plt.rc('text', usetex=True) # enable latex    \n",
    "    plt.rc('axes', prop_cycle=(cycler(color=['#1f77b4', '#ff7f0e', '#2ca02c', '#d62728',\n",
    "                                         '#9467bd', '#8c564b', '#e377c2', '#7f7f7f',\n",
    "                                         '#bcbd22', '#17becf']) +\n",
    "                           cycler(linestyle=['-', '--', ':', '-.','-', '--', ':', '-.','-', '--'])))\n",
    "    \n",
    "set_plt_rc()"
   ]
  },
  {
   "cell_type": "markdown",
   "metadata": {},
   "source": [
    "## The shape of the dataset"
   ]
  },
  {
   "cell_type": "code",
   "execution_count": 5,
   "metadata": {},
   "outputs": [
    {
     "data": {
      "text/plain": [
       "(1714947, 34)"
      ]
     },
     "execution_count": 5,
     "metadata": {},
     "output_type": "execute_result"
    }
   ],
   "source": [
    "dockerimage_dataset.shape"
   ]
  },
  {
   "cell_type": "markdown",
   "metadata": {},
   "source": [
    "## The attributes of the dataset"
   ]
  },
  {
   "cell_type": "code",
   "execution_count": 6,
   "metadata": {},
   "outputs": [
    {
     "data": {
      "text/plain": [
       "Index(['image_name', 'source_repo_name', 'latest_dockerfile', 'tags_count',\n",
       "       'tags_name', 'image_size', 'image_updated_at', 'image_pull_count',\n",
       "       'image_star_count', 'repo_commits_count', 'dockerfile_commit_sha',\n",
       "       'dockerfile_commit_date', 'dockerfile_commit_message', 'language',\n",
       "       'forks_count', 'stargazers_count', 'watchers_count', 'repo_size',\n",
       "       'default_branch', 'open_issues_count', 'has_issues', 'has_projects',\n",
       "       'has_wiki', 'has_pages', 'has_downloads', 'archived', 'pushed_at',\n",
       "       'created_at', 'updated_at', 'subscribers_count', 'network_count',\n",
       "       'license', 'image_description', 'collection_method'],\n",
       "      dtype='object')"
      ]
     },
     "execution_count": 6,
     "metadata": {},
     "output_type": "execute_result"
    }
   ],
   "source": [
    "dockerimage_dataset.keys()"
   ]
  },
  {
   "cell_type": "markdown",
   "metadata": {},
   "source": [
    "## The distribution of pull count depending on whether using CI or not"
   ]
  },
  {
   "cell_type": "code",
   "execution_count": 7,
   "metadata": {},
   "outputs": [
    {
     "name": "stdout",
     "output_type": "stream",
     "text": [
      "The median of pull count of Docker images using CI:  79.0\n",
      "The median of pull count of Docker images not using CI:  19.0\n"
     ]
    },
    {
     "data": {
      "image/png": "[encoded data removed]",
      "text/plain": [
       "<Figure size 288x201.6 with 1 Axes>"
      ]
     },
     "metadata": {},
     "output_type": "display_data"
    }
   ],
   "source": [
    "image_pull_count_ci=dockerimage_dataset.query(\"collection_method=='GitHubCI' or collection_method=='BitbucketCI'\")['image_pull_count'].dropna()\n",
    "image_pull_count_without_ci=dockerimage_dataset.query(\"collection_method.isnull()\")['image_pull_count'].dropna()\n",
    "plt.rc('font', size=8)\n",
    "plt.rc('axes', titlesize=6)\n",
    "plt.rc('axes', labelsize=8)\n",
    "fig, ax = plt.subplots(nrows=1, ncols=1, figsize=(4,2.8))\n",
    "labels = ['Using CI', 'Not Using CI']\n",
    "data=[image_pull_count_ci,image_pull_count_without_ci]\n",
    "bplot = ax.boxplot(data,vert=True,patch_artist=True,labels=labels,widths=0.6)\n",
    "ax.set_yscale('log')\n",
    "ax.set_ylabel('Pull Count')\n",
    "ax.set_xlabel('Docker Images')\n",
    "ax.grid()\n",
    "fig.savefig(figs_dir+'pull-count-distribution', dpi=300,bbox_inches='tight')\n",
    "print('The median of pull count of Docker images using CI: ',image_pull_count_ci.median())\n",
    "print('The median of pull count of Docker images not using CI: ',image_pull_count_without_ci.median())"
   ]
  },
  {
   "cell_type": "code",
   "execution_count": 8,
   "metadata": {},
   "outputs": [
    {
     "name": "stdout",
     "output_type": "stream",
     "text": [
      "Total number of Docker images in the data set:  1714947\n"
     ]
    }
   ],
   "source": [
    "print('Total number of Docker images in the data set: ',dockerimage_dataset.shape[0])"
   ]
  },
  {
   "cell_type": "code",
   "execution_count": 9,
   "metadata": {},
   "outputs": [
    {
     "name": "stdout",
     "output_type": "stream",
     "text": [
      "Total number of Dockerfiles in the data set:  278502\n"
     ]
    }
   ],
   "source": [
    "# All dockerfile number\n",
    "print('Total number of Dockerfiles in the data set: ',dockerimage_dataset.query(\"latest_dockerfile.notnull()\").shape[0])"
   ]
  },
  {
   "cell_type": "code",
   "execution_count": 10,
   "metadata": {},
   "outputs": [
    {
     "name": "stdout",
     "output_type": "stream",
     "text": [
      "Total number of Docker images which use CI and have a source repo hosted on GitHub:  236416\n"
     ]
    }
   ],
   "source": [
    "# from github\n",
    "print('Total number of Docker images which use CI and have a source repo hosted on GitHub: ',dockerimage_dataset.query(\"collection_method=='GitHubCI'\").shape[0])"
   ]
  },
  {
   "cell_type": "code",
   "execution_count": 11,
   "metadata": {},
   "outputs": [
    {
     "name": "stdout",
     "output_type": "stream",
     "text": [
      "Total number of Docker images which use CI and have a source repo hosted on Bitbucket:  18104\n"
     ]
    }
   ],
   "source": [
    "#From bitbucket\n",
    "print('Total number of Docker images which use CI and have a source repo hosted on Bitbucket: ',dockerimage_dataset.query(\"collection_method=='BitbucketCI'\").shape[0])"
   ]
  },
  {
   "cell_type": "code",
   "execution_count": 12,
   "metadata": {},
   "outputs": [
    {
     "name": "stdout",
     "output_type": "stream",
     "text": [
      "Total number of Dockerfiles collected through the name matching heuristic:  23982\n"
     ]
    }
   ],
   "source": [
    "print('Total number of Dockerfiles collected through the name matching heuristic: ',dockerimage_dataset.query(\"collection_method=='NameMatch'\").shape[0])"
   ]
  },
  {
   "cell_type": "code",
   "execution_count": 13,
   "metadata": {},
   "outputs": [
    {
     "name": "stdout",
     "output_type": "stream",
     "text": [
      "Total number of Dockerfiles associated with associated GitHub repos :  260398\n"
     ]
    }
   ],
   "source": [
    "#associate with github\n",
    "print('Total number of Dockerfiles associated with associated GitHub repos : ',dockerimage_dataset.query(\"collection_method=='NameMatch'\").shape[0]+dockerimage_dataset.query(\"collection_method=='GitHubCI'\").shape[0])"
   ]
  },
  {
   "cell_type": "code",
   "execution_count": 14,
   "metadata": {},
   "outputs": [
    {
     "name": "stdout",
     "output_type": "stream",
     "text": [
      "Total number of Docker images using CI for auto builds:  254520\n"
     ]
    }
   ],
   "source": [
    "# ic number\n",
    "print('Total number of Docker images using CI for auto builds: ',dockerimage_dataset.query(\"collection_method=='BitbucketCI'\").shape[0]+dockerimage_dataset.query(\"collection_method=='GitHubCI'\").shape[0])"
   ]
  },
  {
   "cell_type": "code",
   "execution_count": null,
   "metadata": {},
   "outputs": [],
   "source": []
  }
 ],
 "metadata": {
  "kernelspec": {
   "display_name": "Python 3",
   "language": "python",
   "name": "python3"
  },
  "language_info": {
   "codemirror_mode": {
    "name": "ipython",
    "version": 3
   },
   "file_extension": ".py",
   "mimetype": "text/x-python",
   "name": "python",
   "nbconvert_exporter": "python",
   "pygments_lexer": "ipython3",
   "version": "3.5.2"
  }
 },
 "nbformat": 4,
 "nbformat_minor": 2
}
