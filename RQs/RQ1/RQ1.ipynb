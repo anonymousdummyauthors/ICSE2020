{
 "cells": [
  {
   "cell_type": "markdown",
   "metadata": {},
   "source": [
    "# RQ1: What are the most popular programming languages used by source files in Docker images?"
   ]
  },
  {
   "cell_type": "markdown",
   "metadata": {},
   "source": [
    "## Load data and import libraries"
   ]
  },
  {
   "cell_type": "code",
   "execution_count": 1,
   "metadata": {},
   "outputs": [],
   "source": [
    "%load_ext autoreload\n",
    "\n",
    "# Auto reloading causes the kernel to reload the libraries we have\n",
    "%autoreload 2\n",
    "\n",
    "# usual imports for visualization, etc.\n",
    "import numpy as np\n",
    "import pandas as pd\n",
    "import matplotlib.pyplot as plt\n",
    "import matplotlib.dates as mdate\n",
    "import matplotlib.ticker as ticker\n",
    "import datetime\n",
    "\n",
    "# make it reproducible\n",
    "np.random.seed(0)\n",
    "\n",
    "# show plots inline\n",
    "%matplotlib inline"
   ]
  },
  {
   "cell_type": "code",
   "execution_count": 2,
   "metadata": {},
   "outputs": [],
   "source": [
    "data_folder = '../data/'\n",
    "\n",
    "docker_image_dataset = pd.read_csv(data_folder + 'docker_image_dataset.csv', error_bad_lines=False, warn_bad_lines=False,low_memory=False)"
   ]
  },
  {
   "cell_type": "markdown",
   "metadata": {},
   "source": [
    "## Define helper functions and defaults"
   ]
  },
  {
   "cell_type": "code",
   "execution_count": 3,
   "metadata": {},
   "outputs": [],
   "source": [
    "!mkdir figs\n",
    "figs_dir = 'figs/'\n",
    "colors_list = ['#e6194B', '#3cb44b', '#ffe119', '#4363d8', '#f58231', '#911eb4', '#42d4f4', '#f032e6', '#bfef45', '#fabebe', '#469990', '#e6beff', '#9A6324', '#800000', '#aaffc3', '#808000', '#ffd8b1', '#000075', '#a9a9a9']"
   ]
  },
  {
   "cell_type": "code",
   "execution_count": 4,
   "metadata": {},
   "outputs": [],
   "source": [
    "from cycler import cycler\n",
    "def set_plt_rc():\n",
    "    SMALL_SIZE = 8\n",
    "    MEDIUM_SIZE = 10\n",
    "    BIGGER_SIZE = 12\n",
    "    \n",
    "    font = {'family': 'serif','size': BIGGER_SIZE}\n",
    "    plt.rc('font', **font)\n",
    "\n",
    "    plt.rc('font', size=SMALL_SIZE)          # controls default text sizes\n",
    "    plt.rc('axes', titlesize=SMALL_SIZE)     # fontsize of the axes title\n",
    "    plt.rc('axes', labelsize=MEDIUM_SIZE)    # fontsize of the x and y labels\n",
    "    plt.rc('xtick', labelsize=SMALL_SIZE)    # fontsize of the tick labels\n",
    "    plt.rc('ytick', labelsize=SMALL_SIZE)    # fontsize of the tick labels\n",
    "    plt.rc('legend', fontsize=SMALL_SIZE)    # legend fontsize\n",
    "    plt.rc('figure', titlesize=BIGGER_SIZE)  # fontsize of the figure title\n",
    "        \n",
    "    plt.rc('axes', prop_cycle=(cycler(color=['#1f77b4', '#ff7f0e', '#2ca02c', '#d62728',\n",
    "                                         '#9467bd', '#8c564b', '#e377c2', '#7f7f7f',\n",
    "                                         '#bcbd22', '#17becf']) +\n",
    "                           cycler(linestyle=['-', '--', ':', '-.','-', '--', ':', '-.','-', '--'])))\n",
    "    \n",
    "set_plt_rc()"
   ]
  },
  {
   "cell_type": "markdown",
   "metadata": {},
   "source": [
    "## Popular Programming Languages\n"
   ]
  },
  {
   "cell_type": "code",
   "execution_count": 5,
   "metadata": {},
   "outputs": [
    {
     "name": "stdout",
     "output_type": "stream",
     "text": [
      "Top 10 popular programming languages used in docker images\n",
      "Shell         37.091146\n",
      "Python        13.390112\n",
      "JavaScript    12.333205\n",
      "Go             8.295791\n",
      "Java           3.988787\n",
      "HTML           3.350210\n",
      "Ruby           2.663720\n",
      "PHP            2.564323\n",
      "Makefile       2.200340\n",
      "TypeScript     1.377984\n",
      "Name: language, dtype: float64\n"
     ]
    }
   ],
   "source": [
    "dockerfiles=docker_image_dataset.query(\"collection_method=='GitHubCI' or collection_method=='NameMatch'\").copy()\n",
    "language=dockerfiles[dockerfiles['language']!='Dockerfile']['language']\n",
    "language=language.dropna()\n",
    "language_proportion=language.value_counts()/len(language)*100.0\n",
    "print('Top 10 popular programming languages used in docker images')\n",
    "print(language_proportion[:10])"
   ]
  },
  {
   "cell_type": "code",
   "execution_count": 6,
   "metadata": {},
   "outputs": [],
   "source": [
    "# Over time\n",
    "year_list=range(2014,2020)\n",
    "update_year=pd.DatetimeIndex(dockerfiles['updated_at']).year\n",
    "dockerfiles['update_year']=update_year\n",
    "all_language_trend=pd.DataFrame(columns=['Year','Language','Proportion'])\n",
    "for year in year_list:\n",
    "    language=dockerfiles[dockerfiles['language']!='Dockerfile']\n",
    "    language=language[language['update_year']==year]\n",
    "    language['language']=language['language'].dropna()\n",
    "    language_proportion=language['language'].value_counts()/len(language)*100.0\n",
    "    for i in range(language_proportion.size):\n",
    "        all_language_trend=all_language_trend.append(pd.DataFrame([[year,language_proportion.index[i],language_proportion[i]]],columns=['Year','Language','Proportion']),ignore_index=True)\n",
    "# Over time\n",
    "year_list=range(2014,2020)\n",
    "update_year=pd.DatetimeIndex(dockerfiles['updated_at']).year\n",
    "dockerfiles['update_year']=update_year\n",
    "language_trend=pd.DataFrame(columns=['Year','Language','Proportion'])\n",
    "for year in year_list:\n",
    "    language=dockerfiles[dockerfiles['language']!='Dockerfile']\n",
    "    language=language[language['update_year']==year]\n",
    "    language['language']=language['language'].dropna()\n",
    "    language_proportion=language['language'].value_counts()/len(language)*100.0\n",
    "    for i in range(10):\n",
    "        try:\n",
    "            language_trend=language_trend.append(pd.DataFrame([[year,language_proportion.index[i],language_proportion[i]]],columns=['Year','Language','Proportion']),ignore_index=True)\n",
    "        except:\n",
    "            continue\n",
    "lang=language_proportion[:10].index\n",
    "lang.index=range(0,lang.size)\n",
    "for year in year_list:\n",
    "    for i in range(0,lang.size):\n",
    "        dt=language_trend.query(\"Year=={} and Language=='{}'\".format(year,lang[i]))\n",
    "        if(dt.shape[0]==0):\n",
    "            try:\n",
    "                prop=all_language_trend.query(\"Year=={} and Language=='{}'\".format(year,lang[i]))['Proportion']\n",
    "                prop=prop[prop.index[0]]\n",
    "            except:\n",
    "                prop=0\n",
    "            language_trend=language_trend.append(pd.DataFrame([[year,lang[i],prop]],columns=['Year','Language','Proportion']),ignore_index=True)"
   ]
  },
  {
   "cell_type": "code",
   "execution_count": 7,
   "metadata": {
    "scrolled": true
   },
   "outputs": [
    {
     "data": {
      "image/png": "[encoded data removed]",
      "text/plain": [
       "<Figure size 288x241.2 with 1 Axes>"
      ]
     },
     "metadata": {},
     "output_type": "display_data"
    }
   ],
   "source": [
    "fig=plt.figure(figsize=(4,3.35))\n",
    "plt.rc('font', size=8)\n",
    "plt.rc('axes', titlesize=6)\n",
    "plt.rc('axes', labelsize=8)\n",
    "ax=plt.subplot(111)\n",
    "ax.grid()\n",
    "#ax.set_ylim(1,45)\n",
    "for i in range(0,lang.size):\n",
    "    ax.plot(year_list, language_trend[language_trend['Language']==lang[i]].sort_values(by=['Year'])['Proportion'], label=lang[i],color=colors_list[i]) \n",
    "ax.legend()\n",
    "ax.set_xlabel('Year')\n",
    "ax.set_ylabel('Proportion in Percentage')\n",
    "ax.legend(prop=dict(size=6))\n",
    "fig.savefig(figs_dir+'popular-languages-over-time', dpi=300)\n",
    "fig.savefig(figs_dir+'popular-languages-over-time.pdf')"
   ]
  },
  {
   "cell_type": "code",
   "execution_count": null,
   "metadata": {},
   "outputs": [],
   "source": []
  }
 ],
 "metadata": {
  "kernelspec": {
   "display_name": "Python 3",
   "language": "python",
   "name": "python3"
  },
  "language_info": {
   "codemirror_mode": {
    "name": "ipython",
    "version": 3
   },
   "file_extension": ".py",
   "mimetype": "text/x-python",
   "name": "python",
   "nbconvert_exporter": "python",
   "pygments_lexer": "ipython3",
   "version": "3.5.2"
  }
 },
 "nbformat": 4,
 "nbformat_minor": 2
}
