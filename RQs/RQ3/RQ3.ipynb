{
 "cells": [
  {
   "cell_type": "markdown",
   "metadata": {},
   "source": [
    "# RQ3: How does the size of Docker images evolve?"
   ]
  },
  {
   "cell_type": "markdown",
   "metadata": {},
   "source": [
    "## Load data and import libraries"
   ]
  },
  {
   "cell_type": "code",
   "execution_count": 1,
   "metadata": {},
   "outputs": [],
   "source": [
    "%load_ext autoreload\n",
    "\n",
    "# Auto reloading causes the kernel to reload the libraries we have\n",
    "%autoreload 2\n",
    "\n",
    "# usual imports for visualization, etc.\n",
    "import numpy as np\n",
    "import pandas as pd\n",
    "import matplotlib.pyplot as plt\n",
    "import matplotlib.dates as mdate\n",
    "import matplotlib.ticker as ticker\n",
    "from pandas import Timestamp\n",
    "import datetime\n",
    "import re\n",
    "\n",
    "# make it reproducible\n",
    "np.random.seed(0)\n",
    "\n",
    "# show plots inline\n",
    "%matplotlib inline"
   ]
  },
  {
   "cell_type": "code",
   "execution_count": 2,
   "metadata": {},
   "outputs": [],
   "source": [
    "data_folder = '../data/'\n",
    "\n",
    "docker_image_dataset = pd.read_csv(data_folder + 'docker_image_dataset.csv', error_bad_lines=False, warn_bad_lines=False,low_memory=False)\n",
    "dockerfiles = docker_image_dataset[docker_image_dataset['collection_method'].notnull()].copy()\n",
    "dockerfiles.index=range(0,dockerfiles.shape[0])"
   ]
  },
  {
   "cell_type": "markdown",
   "metadata": {},
   "source": [
    "## Define helper functions and defaults"
   ]
  },
  {
   "cell_type": "code",
   "execution_count": 3,
   "metadata": {},
   "outputs": [],
   "source": [
    "!mkdir figs\n",
    "figs_dir = 'figs/'"
   ]
  },
  {
   "cell_type": "code",
   "execution_count": 4,
   "metadata": {},
   "outputs": [],
   "source": [
    "from cycler import cycler\n",
    "def set_plt_rc():\n",
    "    SMALL_SIZE = 8\n",
    "    MEDIUM_SIZE = 10\n",
    "    BIGGER_SIZE = 12\n",
    "    \n",
    "    font = {'family': 'serif','size': BIGGER_SIZE}\n",
    "    plt.rc('font', **font)\n",
    "\n",
    "    plt.rc('font', size=SMALL_SIZE)          # controls default text sizes\n",
    "    plt.rc('axes', titlesize=SMALL_SIZE)     # fontsize of the axes title\n",
    "    plt.rc('axes', labelsize=MEDIUM_SIZE)    # fontsize of the x and y labels\n",
    "    plt.rc('xtick', labelsize=SMALL_SIZE)    # fontsize of the tick labels\n",
    "    plt.rc('ytick', labelsize=SMALL_SIZE)    # fontsize of the tick labels\n",
    "    plt.rc('legend', fontsize=SMALL_SIZE)    # legend fontsize\n",
    "    plt.rc('figure', titlesize=BIGGER_SIZE)  # fontsize of the figure title\n",
    "    plt.rc('text', usetex=True) # enable latex       \n",
    "    plt.rc('axes', prop_cycle=(cycler(color=['#1f77b4', '#ff7f0e', '#2ca02c', '#d62728',\n",
    "                                         '#9467bd', '#8c564b', '#e377c2', '#7f7f7f',\n",
    "                                         '#bcbd22', '#17becf']) +\n",
    "                           cycler(linestyle=['-', '--', ':', '-.','-', '--', ':', '-.','-', '--'])))\n",
    "    \n",
    "set_plt_rc()"
   ]
  },
  {
   "cell_type": "markdown",
   "metadata": {},
   "source": [
    "## Docker Image Source Repository Size Distribution"
   ]
  },
  {
   "cell_type": "code",
   "execution_count": 5,
   "metadata": {},
   "outputs": [
    {
     "data": {
      "image/png": "[encoded data removed]",
      "text/plain": [
       "<Figure size 180x144 with 1 Axes>"
      ]
     },
     "metadata": {},
     "output_type": "display_data"
    }
   ],
   "source": [
    "size=dockerfiles['repo_size'].dropna()\n",
    "size[size==size.max()]=np.nan\n",
    "size=size.dropna() # Remove outliers\n",
    "log_size=size.apply(lambda x: np.log10(x/1024.0) if x>10 else np.log10(5.0/1024.0))\n",
    "fig=plt.figure(figsize=(2.5,2))\n",
    "ax=plt.subplot(111)\n",
    "ax.set_xlim(-3,3)\n",
    "plt.hist(log_size, weights=np.ones_like(log_size) * 100. / len(log_size),align='mid',bins=range(-3,4))\n",
    "ax.grid()\n",
    "xmajorLocator= ticker.MultipleLocator(1)\n",
    "ax.xaxis.set_major_locator(xmajorLocator)\n",
    "ax.set_xlabel('Repository Size in MB')\n",
    "ax.set_ylabel('Proportion in Percentage')\n",
    "xi=['','0','$0.01$','$0.1$','$1$','$10$','$100$','$1000$']\n",
    "ax.set_xticklabels(xi)\n",
    "fig.tight_layout()\n",
    "fig.savefig(figs_dir+'repo-size-distribution', dpi=300)\n",
    "fig.savefig(figs_dir+'repo-size-distribution.pdf')"
   ]
  },
  {
   "cell_type": "code",
   "execution_count": 6,
   "metadata": {},
   "outputs": [
    {
     "name": "stdout",
     "output_type": "stream",
     "text": [
      "Averge Docker image source repository size in KB:  6669.048389226846\n",
      "Averge Docker image source repository size in MB:  6.512742567604342\n",
      "Median of Docker image source repository size in KB:  16.0\n",
      "25% quantile of Docker image source repository size in KB:  4.0\n",
      "75% quantile of Docker image source repository size in KB:  148.0\n"
     ]
    }
   ],
   "source": [
    "print('Averge Docker image source repository size in KB: ',size.mean())\n",
    "print('Averge Docker image source repository size in MB: ',size.mean()/1024.0)\n",
    "print('Median of Docker image source repository size in KB: ',size.median())\n",
    "print('25% quantile of Docker image source repository size in KB: ', size.quantile(.25))\n",
    "print('75% quantile of Docker image source repository size in KB: ', size.quantile(.75))"
   ]
  },
  {
   "cell_type": "code",
   "execution_count": 7,
   "metadata": {},
   "outputs": [],
   "source": [
    "# Function for converting str into int list\n",
    "def str2intlist(s):\n",
    "    try:\n",
    "        s=s[1:-1]\n",
    "        s=s.split(',')\n",
    "        for i in range(len(s)):\n",
    "            s[i]=int(s[i])\n",
    "        return s\n",
    "    except:\n",
    "        return np.nan\n",
    "dockerfiles['avg_image_size']=np.nan\n",
    "dockerfiles['avg_image_size']=dockerfiles['image_size'].apply(lambda x: np.mean(str2intlist(x))/1024.0/1024.0)"
   ]
  },
  {
   "cell_type": "code",
   "execution_count": 8,
   "metadata": {
    "scrolled": false
   },
   "outputs": [
    {
     "name": "stdout",
     "output_type": "stream",
     "text": [
      "Averge Docker image size in MB:  286.71456326453364\n",
      "Median of Docker image size in MB:  152.68830943107605\n",
      "25% quantile of Docker image size in MB:  47.26151132583618\n",
      "75% quantile of Docker image size in MB:  308.6166989803314\n"
     ]
    }
   ],
   "source": [
    "print('Averge Docker image size in MB: ',dockerfiles['avg_image_size'].dropna().mean())\n",
    "print('Median of Docker image size in MB: ',dockerfiles['avg_image_size'].dropna().median())\n",
    "print('25% quantile of Docker image size in MB: ', dockerfiles['avg_image_size'].dropna().quantile(.25))\n",
    "print('75% quantile of Docker image size in MB: ', dockerfiles['avg_image_size'].dropna().quantile(.75))"
   ]
  },
  {
   "cell_type": "markdown",
   "metadata": {},
   "source": [
    "## Docker Image Size Distribution"
   ]
  },
  {
   "cell_type": "code",
   "execution_count": 9,
   "metadata": {},
   "outputs": [
    {
     "data": {
      "image/png": "[encoded data removed]",
      "text/plain": [
       "<Figure size 180x144 with 1 Axes>"
      ]
     },
     "metadata": {},
     "output_type": "display_data"
    }
   ],
   "source": [
    "dockerfiles = pd.read_csv(data_folder + 'docker_image_dataset.csv', error_bad_lines=False, warn_bad_lines=False,low_memory=False)\n",
    "dockerfiles['avg_image_size']=np.nan\n",
    "dockerfiles['avg_image_size']=dockerfiles['image_size'].apply(lambda x: np.mean(str2intlist(x))/1024.0/1024.0)\n",
    "size=dockerfiles['avg_image_size'].apply(lambda x: np.nan if x==0 else x)\n",
    "size=size.dropna()\n",
    "fig=plt.figure(figsize=(2.5,2))\n",
    "ax=plt.subplot(111)\n",
    "ax.set_xlim(0,900)\n",
    "ax.grid()\n",
    "ax.set_ylabel(\"Proportion in Percentage\")\n",
    "ax.set_xlabel('Docker Image Size in MB')\n",
    "xmajorLocator= ticker.MultipleLocator(100)\n",
    "ax.xaxis.set_major_locator(xmajorLocator)\n",
    "plt.hist(size, weights=np.ones_like(size) * 100. / len(size),align='mid',bins=range(0,1000,100))\n",
    "fig.tight_layout()\n",
    "fig.savefig(figs_dir+'imge-size-distribution', dpi=300)\n",
    "fig.savefig(figs_dir+'imge-size-distribution.pdf')"
   ]
  },
  {
   "cell_type": "markdown",
   "metadata": {},
   "source": [
    "## Docker Image Size over Time"
   ]
  },
  {
   "cell_type": "code",
   "execution_count": 10,
   "metadata": {},
   "outputs": [],
   "source": [
    "docker_image_dataset = pd.read_csv(data_folder + 'docker_image_dataset.csv', error_bad_lines=False, warn_bad_lines=False,low_memory=False)\n",
    "dockerfiles = docker_image_dataset[docker_image_dataset['collection_method'].notnull()].copy()\n",
    "dockerfiles.index=range(0,dockerfiles.shape[0])\n",
    "dockerfiles['avg_image_size']=dockerfiles['image_size'].apply(lambda x: np.mean(str2intlist(x))/1024.0/1024.0)\n",
    "update_year=pd.DatetimeIndex(dockerfiles['updated_at']).year\n",
    "update_month=pd.DatetimeIndex(dockerfiles['updated_at']).month\n",
    "dockerfiles['update_year']=update_year\n",
    "dockerfiles['update_month']=update_month\n",
    "year_list=range(2014,2020)\n",
    "month_list=range(1,13)\n",
    "time=pd.Series()\n",
    "average_image_size=pd.Series()\n",
    "for year in year_list:\n",
    "    for month in month_list:\n",
    "        if(year==2019 and month==4):\n",
    "            break\n",
    "        time=time.append(pd.Series(str(year)+'-'+str(month),index=[0]))\n",
    "        dockerfile=dockerfiles[dockerfiles['update_year']==year]\n",
    "        dockerfile=dockerfile[dockerfile['update_month']==month]\n",
    "        size=dockerfile['avg_image_size']\n",
    "        size=size.apply(lambda x: x if x!=0 else np.nan)\n",
    "        size=size.dropna()\n",
    "        average_image_size=average_image_size.append(pd.Series(size.mean(),index=[0]))\n",
    "time.index=range(0,len(time))\n",
    "average_image_size.index=range(0,len(average_image_size))\n",
    "avg_size_over_time=pd.concat([time,average_image_size],axis=1,keys=['time','average_image_size'])"
   ]
  },
  {
   "cell_type": "code",
   "execution_count": 11,
   "metadata": {},
   "outputs": [
    {
     "data": {
      "image/png": "[encoded data removed]",
      "text/plain": [
       "<Figure size 288x144 with 1 Axes>"
      ]
     },
     "metadata": {},
     "output_type": "display_data"
    }
   ],
   "source": [
    "avg_size_over_time['time']=avg_size_over_time['time'].apply(lambda x:pd.Timestamp(x).year)\n",
    "year=pd.Series(range(2014,2020))\n",
    "avg_size=pd.Series([0]*len(year))\n",
    "avg_size_yearly=pd.concat([year,avg_size],axis=1,keys=['Year','Size'])\n",
    "for y in range(2014,2020):\n",
    "    avg_size_yearly.loc[y-2014,'Size']=avg_size_over_time[avg_size_over_time['time']==y]['average_image_size'].mean()\n",
    "fig=plt.figure(figsize=(4,2))\n",
    "ax=plt.subplot(111)\n",
    "ax.set_ylabel(\"Average Docker Image Size\")\n",
    "ax.set_xlabel('Year')\n",
    "ax.grid()\n",
    "plt.plot(avg_size_yearly['Year'],avg_size_yearly['Size'])\n",
    "fig.savefig(figs_dir+'image-size-over-time-yearly', dpi=300)\n",
    "fig.savefig(figs_dir+'image-size-over-time-yearly.pdf')"
   ]
  },
  {
   "cell_type": "markdown",
   "metadata": {},
   "source": [
    "## Trend of Docker image size across versions (tags)"
   ]
  },
  {
   "cell_type": "code",
   "execution_count": 13,
   "metadata": {},
   "outputs": [],
   "source": [
    "dockerfiles = pd.read_csv(data_folder + 'docker_image_dataset.csv', error_bad_lines=False, warn_bad_lines=False,low_memory=False)\n",
    "\n",
    "#Function for getting slope\n",
    "def get_slope(data):\n",
    "    if(type(data)!=list):\n",
    "        return np.nan\n",
    "    if(len(data)==1):\n",
    "        return np.nan\n",
    "    x=list(range(1,len(data)+1))\n",
    "    xy_mean=np.mean(np.array(x)*np.array(data))    \n",
    "    x_mean_y_mean=np.mean(np.array(x))*np.mean(np.array(data))\n",
    "    x_square_mean=np.mean(np.array(x)*np.array(x))\n",
    "    x_mean_squre=np.mean(x)*np.mean(x)\n",
    "    return (xy_mean-x_mean_y_mean)*1.0/(x_square_mean-x_mean_squre)\n",
    "\n",
    "# Function for converting str into int list\n",
    "def str2intlist(s):\n",
    "    try:\n",
    "        s=s[1:-1]\n",
    "        s=s.split(',')\n",
    "        for i in range(len(s)):\n",
    "            s[i]=int(s[i])/1024.0/1024.0\n",
    "        if(len(s)>=3):\n",
    "            return s\n",
    "        return np.nan\n",
    "    except:\n",
    "        return np.nan"
   ]
  },
  {
   "cell_type": "code",
   "execution_count": 14,
   "metadata": {
    "scrolled": true
   },
   "outputs": [
    {
     "name": "stdout",
     "output_type": "stream",
     "text": [
      "Proportion of Docker images whose size increases over time:  0.3087674568173466\n",
      "Proportion of Docker images whose size decreases over time  0.6509440463065049\n",
      "Proportion of Docker images whose size remains stable over time:  0.04028849687614844\n"
     ]
    },
    {
     "data": {
      "image/png": "[encoded data removed]",
      "text/plain": [
       "<Figure size 288x201.6 with 1 Axes>"
      ]
     },
     "metadata": {},
     "output_type": "display_data"
    }
   ],
   "source": [
    "slope=dockerfiles['image_size'].apply(lambda x: get_slope(str2intlist(x)))\n",
    "slope=slope.dropna()\n",
    "inc=len(slope[slope>0])/len(slope)\n",
    "dsc=len(slope[slope<0])/len(slope)\n",
    "stb=1-inc-dsc\n",
    "print('Proportion of Docker images whose size increases over time: ', inc)\n",
    "print('Proportion of Docker images whose size decreases over time ', dsc)\n",
    "print('Proportion of Docker images whose size remains stable over time: ', stb)\n",
    "fig=plt.figure(figsize=(4,2.8))\n",
    "ax=plt.subplot(111)\n",
    "plt.pie([inc,dsc,stb],labels=['Increase','Decrease','Remain Stable'],autopct='%1.1f%%')\n",
    "ax.set_xlabel('Trend of Docker Image Size')\n",
    "fig.savefig(figs_dir+'pie-image-size', dpi=300)\n",
    "fig.savefig(figs_dir+'pie-image-size.pdf')"
   ]
  },
  {
   "cell_type": "code",
   "execution_count": null,
   "metadata": {},
   "outputs": [],
   "source": []
  }
 ],
 "metadata": {
  "kernelspec": {
   "display_name": "Python 3",
   "language": "python",
   "name": "python3"
  },
  "language_info": {
   "codemirror_mode": {
    "name": "ipython",
    "version": 3
   },
   "file_extension": ".py",
   "mimetype": "text/x-python",
   "name": "python",
   "nbconvert_exporter": "python",
   "pygments_lexer": "ipython3",
   "version": "3.5.2"
  }
 },
 "nbformat": 4,
 "nbformat_minor": 2
}
